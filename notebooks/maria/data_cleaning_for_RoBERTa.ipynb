{
 "cells": [
  {
   "cell_type": "code",
   "execution_count": 1,
   "id": "17943da0",
   "metadata": {},
   "outputs": [],
   "source": [
    "import pandas as pd\n",
    "import numpy as np"
   ]
  },
  {
   "cell_type": "code",
   "execution_count": 14,
   "id": "7442069a",
   "metadata": {},
   "outputs": [],
   "source": [
    "\n",
    "df1 = pd.read_parquet('../data/raw/cop26_tweets_en.parquet')",
    "\n",
    "df2 = pd.read_parquet('../data/raw/covid_tweets_en.parquet')\n",
    "\n",
    "df3 = pd.read_parquet('../data/raw/ukraine_tweets_en.parquet')\n",
    "\n",
    "df1 = df1.astype('string')\n",
    "df2 = df2.astype('string')\n",
    "df3 = df3.astype('string')\n",
    "\n"
   ]
  },
  {
   "cell_type": "code",
   "execution_count": 15,
   "id": "d630a4e5",
   "metadata": {},
   "outputs": [],
   "source": [
    "df1['source']='cop26'\n",
    "df2['source']='covid'\n",
    "df3['source']='ukraine_russia'\n",
    "\n"
   ]
  },
  {
   "cell_type": "code",
   "execution_count": 28,
   "id": "e28573c9",
   "metadata": {},
   "outputs": [],
   "source": [
    "df1 = df1[df1['replied_id'].isna()]\n",
    "df2 = df2[df2['replied_id'].isna()]\n",
    "df3 = df3[df3['replied_id']=='']"
   ]
  },
  {
   "cell_type": "code",
   "execution_count": 29,
   "id": "a9cc8992",
   "metadata": {},
   "outputs": [],
   "source": [
    "\n",
    "df=pd.concat([df1, df2, df3], ignore_index=True)"
   ]
  },
  {
   "cell_type": "code",
   "execution_count": 30,
   "id": "4203924d",
   "metadata": {},
   "outputs": [
    {
     "data": {
      "text/plain": [
       "(1397089, 24)"
      ]
     },
     "execution_count": 30,
     "metadata": {},
     "output_type": "execute_result"
    }
   ],
   "source": [
    "df.shape"
   ]
  },
  {
   "cell_type": "code",
   "execution_count": 31,
   "id": "2bf46fe0",
   "metadata": {},
   "outputs": [],
   "source": [
    "import re\n",
    "import html\n",
    "import emoji\n",
    "import pandas as pd\n",
    "from tqdm import tqdm\n",
    "\n",
    "tqdm.pandas()\n",
    "\n",
    "\n",
    "# ========== Core Cleaning Functions ==========\n",
    "\n",
    "def clean_tweet_for_bert(text):\n",
    "    \"\"\"Cleans text for transformer input (removes URLs, normalizes emojis, quotes, etc.).\"\"\"\n",
    "    if not isinstance(text, str):\n",
    "        return \"\"\n",
    "    \n",
    "    text = html.unescape(text)\n",
    "    text = re.sub(r'http\\S+|www\\S+', '', text)  # Remove URLs\n",
    "    text = re.sub(r'@\\w+', '@user', text)       # Replace mentions with placeholder\n",
    "    text = re.sub(r'\\s+', ' ', text)            # Normalize whitespace\n",
    "    text = emoji.demojize(text, delimiters=(\" \", \" \"))  # Convert emojis to text\n",
    "    text = re.sub(r'[“”\"\"''‘’]', '\"', text)      # Standardize quotes\n",
    "    text = re.sub(r\"[^\\x00-\\x7F]+\", \"\", text)    # Remove non-ASCII characters\n",
    "    text = re.sub(r'\\b\\d{6,}\\b', '', text)       # Remove long numbers (e.g., codes)\n",
    "    return text.strip()\n",
    "\n",
    "\n",
    "def fix_repeating_quotes(text):\n",
    "    \"\"\"Fix long strings of repeating quotes.\"\"\"\n",
    "    if not isinstance(text, str):\n",
    "        return text\n",
    "    text = re.sub(r'[“”]', '\"', text)\n",
    "    text = re.sub(r\"[‘’]\", \"'\", text)\n",
    "    text = re.sub(r'\"{2,}', '\"', text)\n",
    "    return text\n",
    "\n",
    "\n",
    "def fix_escaped_quotes(text):\n",
    "    \"\"\"Fix escaped quotes from JSON or HTML sources.\"\"\"\n",
    "    return text.replace('\\\\\"', '\"') if isinstance(text, str) else text\n",
    "\n",
    "\n",
    "# ========== Filters and Flags ==========\n",
    "\n",
    "def is_useless_tweet(text):\n",
    "    \"\"\"Check if tweet has no meaningful content.\"\"\"\n",
    "    if not isinstance(text, str):\n",
    "        return True\n",
    "    text = text.lower().strip()\n",
    "    if re.fullmatch(r'(@user\\s*)+', text):\n",
    "        return True\n",
    "    if re.match(r'^rt @user:?$', text):\n",
    "        return True\n",
    " \n",
    "    return False\n",
    "\n",
    "\n",
    "def is_only_hashtag(text):\n",
    "    \"\"\"Returns True if tweet is only composed of hashtags.\"\"\"\n",
    "    if not isinstance(text, str):\n",
    "        return False\n",
    "    return bool(re.fullmatch(r\"(#\\w+\\s*)+\", text.strip()))\n",
    "\n",
    "\n",
    "def flag_special_tweet_cases(text):\n",
    "    \"\"\"Flag tweets with special patterns: mostly emoji, nonverbal, or weird quotes.\"\"\"\n",
    "    result = {\n",
    "        \"is_mostly_emoji\": False,\n",
    "        \"is_nonverbal\": False,\n",
    "        \"has_repeating_quotes\": False\n",
    "    }\n",
    "\n",
    "    if not isinstance(text, str) or text.strip() == \"\":\n",
    "        return result\n",
    "\n",
    "    tokens = text.split()\n",
    "    emoji_count = sum(1 for t in tokens if t.startswith(\":\") and t.endswith(\":\"))\n",
    "    if tokens and (emoji_count / len(tokens) > 0.75):\n",
    "        result[\"is_mostly_emoji\"] = True\n",
    "\n",
    "    if not re.search(r\"[a-zA-Z]\", text):\n",
    "        result[\"is_nonverbal\"] = True\n",
    "\n",
    "    if re.search(r'\"{2,}', text):\n",
    "        result[\"has_repeating_quotes\"] = True\n",
    "\n",
    "    return result\n",
    "\n",
    "\n",
    "# ========== Main Preprocessing Function ==========\n",
    "\n",
    "def preprocess_tweets(df, text_col='text'):\n",
    "    \"\"\"Full tweet cleaning pipeline that adds a 'cleaned_tweet' column and removes low-quality rows.\"\"\"\n",
    "\n",
    "    df = df.copy()\n",
    "\n",
    "    # Clean tweets\n",
    "    df['cleaned_tweet'] = df[text_col].progress_apply(clean_tweet_for_bert)\n",
    "\n",
    "    # Flag special cases\n",
    "    flags = df['cleaned_tweet'].progress_apply(flag_special_tweet_cases)\n",
    "    flag_df = pd.DataFrame(flags.tolist())\n",
    "    df = pd.concat([df, flag_df], axis=1)\n",
    "\n",
    "    # Filter out bad tweets\n",
    "    df = df[~df['cleaned_tweet'].apply(is_only_hashtag)]\n",
    "    df = df[~df['cleaned_tweet'].progress_apply(is_useless_tweet)]\n",
    "    df = df[~df['is_nonverbal']]\n",
    "\n",
    "    # Final cleaning steps\n",
    "    df['cleaned_tweet'] = df['cleaned_tweet'].progress_apply(fix_repeating_quotes)\n",
    "    df['cleaned_tweet'] = df['cleaned_tweet'].progress_apply(fix_escaped_quotes)\n",
    "\n",
    "    # Length filter\n",
    "    df = df[df['cleaned_tweet'].str.len() > 10]\n",
    "\n",
    "    return df\n",
    "\n",
    "clean_df = preprocess_tweets(df)"
   ]
  },
  {
   "cell_type": "code",
   "execution_count": 33,
   "id": "b3c617c9",
   "metadata": {},
   "outputs": [
    {
     "data": {
      "text/plain": [
       "(1393942, 28)"
      ]
     },
     "execution_count": 33,
     "metadata": {},
     "output_type": "execute_result"
    }
   ],
   "source": [
    "clean_df.shape"
clean_df.to_csv('../data/processed/cleaned_for_roberta.csv', index=False)
   ]
  },
  {
   "cell_type": "code",
   "execution_count": null,
   "id": "fa7a2516",
   "metadata": {},
   "outputs": [],
   "source": []
  }
 ],
 "metadata": {
  "kernelspec": {
   "display_name": "Python 3 (ipykernel)",
   "language": "python",
   "name": "python3"
  },
  "language_info": {
   "codemirror_mode": {
    "name": "ipython",
    "version": 3
   },
   "file_extension": ".py",
   "mimetype": "text/x-python",
   "name": "python",
   "nbconvert_exporter": "python",
   "pygments_lexer": "ipython3",
   "version": "3.9.13"
  }
 },
 "nbformat": 4,
 "nbformat_minor": 5
}
