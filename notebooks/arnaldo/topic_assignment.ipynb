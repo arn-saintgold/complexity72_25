{
 "cells": [
  {
   "cell_type": "code",
   "execution_count": 1,
   "id": "61fe5244",
   "metadata": {},
   "outputs": [],
   "source": [
    "import pandas as pd\n",
    "df = pd.read_parquet(\"./../../data/raw/cop26_tweets_en.parquet\")"
   ]
  },
  {
   "cell_type": "code",
   "execution_count": 2,
   "id": "9342e7b8",
   "metadata": {},
   "outputs": [
    {
     "name": "stderr",
     "output_type": "stream",
     "text": [
      "/home/arnaldo/Documents/prog-projects/complexity72_25/.venv/lib/python3.12/site-packages/tqdm/auto.py:21: TqdmWarning: IProgress not found. Please update jupyter and ipywidgets. See https://ipywidgets.readthedocs.io/en/stable/user_install.html\n",
      "  from .autonotebook import tqdm as notebook_tqdm\n",
      "2025-07-12 21:00:52,492 - BERTopic - WARNING: You are loading a BERTopic model without explicitly defining an embedding model. If you want to also load in an embedding model, make sure to use `BERTopic.load(my_model, embedding_model=my_embedding_model)`.\n"
     ]
    }
   ],
   "source": [
    "#!pip install bertopic==0.16.4\n",
    "from bertopic import BERTopic\n",
    "model  = BERTopic.load(\"./../../models/cop26_tweets_en.parquet.topic_model\")"
   ]
  },
  {
   "cell_type": "code",
   "execution_count": 5,
   "id": "5f98c51d",
   "metadata": {},
   "outputs": [],
   "source": [
    "import pandas as pd\n",
    "import numpy as np\n",
    "\n",
    "ur_df = pd.read_parquet('./../../data/raw/cop26_tweets_en.parquet')\n",
    "doc_info = pd.read_csv('./../../data/processed/document_info_cop26_tweets_en.csv')[['Document', 'Topic', 'Representative_document','Name']]\n",
    "embeddings = np.load('./../../data/processed/cop26_tweets_en.parquet.npy')"
   ]
  },
  {
   "cell_type": "code",
   "execution_count": 6,
   "id": "1daeaa59",
   "metadata": {},
   "outputs": [
    {
     "name": "stdout",
     "output_type": "stream",
     "text": [
      "Index(['Document', 'Topic', 'Representative_document', 'Name'], dtype='object')\n"
     ]
    }
   ],
   "source": [
    "print(doc_info.columns)"
   ]
  },
  {
   "cell_type": "code",
   "execution_count": 7,
   "id": "d5f28203",
   "metadata": {},
   "outputs": [],
   "source": [
    "# merge ur_df with doc_info on 'text'\n",
    "merged_df = ur_df.merge(doc_info, left_on='text', right_on='Document', how='left')\n",
    "assert len(merged_df) == len(ur_df), 'differing length before and after merge, duplicates in right'"
   ]
  },
  {
   "cell_type": "code",
   "execution_count": 38,
   "id": "1fe013c3",
   "metadata": {},
   "outputs": [
    {
     "data": {
      "text/plain": [
       "Index(['id', 'author_id', 'created_at', 'lang', 'in_reply_to_user_id',\n",
       "       'conversation_id', 'text', 'reply_settings', 'possibly_sensitive',\n",
       "       'retweeted_id', 'quoted_id', 'replied_id', 'url', 'expanded_url',\n",
       "       'mention_name', 'hashtags', 'retweet_count', 'reply_count',\n",
       "       'like_count', 'quote_count', 'username', 'individual_or_org',\n",
       "       'category'],\n",
       "      dtype='object')"
      ]
     },
     "execution_count": 38,
     "metadata": {},
     "output_type": "execute_result"
    }
   ],
   "source": [
    "ur_df.columns"
   ]
  },
  {
   "cell_type": "code",
   "execution_count": 12,
   "id": "3b30dc2b",
   "metadata": {},
   "outputs": [],
   "source": [
    "# Function to select dominant topics\n",
    "from collections import Counter\n",
    "\n",
    "# Sample columns: 'author_id', 'i', 'Topic'\n",
    "# df = pd.DataFrame(...)\n",
    "\n",
    "def get_user_dominant_topic(topics, threshold=0.5, exclude=-1):\n",
    "    \"\"\"\n",
    "    Args:\n",
    "        topics (list): list of topic labels for a user.\n",
    "        threshold (float): minimum fraction (e.g., 0.5 for 50%) for dominance.\n",
    "        exclude (int or list): topic(s) to exclude, e.g. -1.\n",
    "    \n",
    "    Returns:\n",
    "        int or None: dominant topic if above threshold, else None\n",
    "    \"\"\"\n",
    "    if isinstance(exclude, int):\n",
    "        topics = [t for t in topics if t != exclude]\n",
    "    elif isinstance(exclude, list):\n",
    "        topics = [t for t in topics if t not in exclude]\n",
    "\n",
    "    if not topics:\n",
    "        return None\n",
    "\n",
    "    total = len(topics)\n",
    "    topic_counts = Counter(topics)\n",
    "    top_topic, top_count = topic_counts.most_common(1)[0]\n",
    "    \n",
    "    if top_count / total >= threshold:\n",
    "        return top_topic\n",
    "    return None\n"
   ]
  },
  {
   "cell_type": "code",
   "execution_count": 14,
   "id": "9aae8abd",
   "metadata": {},
   "outputs": [],
   "source": [
    "user_topics = merged_df.groupby('author_id')['Topic'].apply(list)\n",
    "\n",
    "# Try with 30% threshold\n",
    "user_dominant_topic_30 = user_topics.apply(lambda topics: get_user_dominant_topic(topics, threshold=0.3))\n",
    "\n",
    "# Try with 50% threshold\n",
    "user_dominant_topic_50 = user_topics.apply(lambda topics: get_user_dominant_topic(topics, threshold=0.5))\n",
    "\n",
    "# Try with 60% threshold\n",
    "user_dominant_topic_60 = user_topics.apply(lambda topics: get_user_dominant_topic(topics, threshold=0.6))\n",
    "\n",
    "# Combine into a DataFrame for comparison\n",
    "result = pd.DataFrame({\n",
    "    'dominant_topic_30': user_dominant_topic_30,\n",
    "    'dominant_topic_50': user_dominant_topic_50,\n",
    "    'dominant_topic_60': user_dominant_topic_60\n",
    "})"
   ]
  }
 ],
 "metadata": {
  "kernelspec": {
   "display_name": ".venv",
   "language": "python",
   "name": "python3"
  },
  "language_info": {
   "codemirror_mode": {
    "name": "ipython",
    "version": 3
   },
   "file_extension": ".py",
   "mimetype": "text/x-python",
   "name": "python",
   "nbconvert_exporter": "python",
   "pygments_lexer": "ipython3",
   "version": "3.12.3"
  }
 },
 "nbformat": 4,
 "nbformat_minor": 5
}
