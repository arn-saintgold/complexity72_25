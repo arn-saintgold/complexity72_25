{
 "cells": [
  {
   "cell_type": "markdown",
   "id": "48241121",
   "metadata": {},
   "source": [
    "# Topic/User Analysis"
   ]
  },
  {
   "cell_type": "markdown",
   "id": "466ee234",
   "metadata": {},
   "source": [
    "## Load Data"
   ]
  },
  {
   "cell_type": "code",
   "execution_count": 13,
   "id": "5f98c51d",
   "metadata": {},
   "outputs": [],
   "source": [
    "import pandas as pd\n",
    "import numpy as np\n",
    "\n",
    "ur_df = pd.read_parquet('./../../data/raw/cop26_tweets_en.parquet')\n",
    "doc_info = pd.read_csv('./../../data/processed/document_info_cop26_tweets_en.csv')[['Document', 'Topic', 'Representative_document','Name']]\n",
    "doc_info.Topic = doc_info.Topic.astype(int)\n",
    "embeddings = np.load('./../../data/processed/cop26_tweets_en.parquet.npy')"
   ]
  },
  {
   "cell_type": "code",
   "execution_count": 5,
   "id": "1daeaa59",
   "metadata": {},
   "outputs": [
    {
     "name": "stdout",
     "output_type": "stream",
     "text": [
      "Index(['Document', 'Topic', 'Representative_document', 'Name'], dtype='object')\n"
     ]
    }
   ],
   "source": [
    "print(doc_info.columns)"
   ]
  },
  {
   "cell_type": "markdown",
   "id": "1de7cd2d",
   "metadata": {},
   "source": [
    "## Merge dataset\n",
    "Merge Topic data with Tweets so that (retweets are included)."
   ]
  },
  {
   "cell_type": "code",
   "execution_count": 14,
   "id": "d5f28203",
   "metadata": {},
   "outputs": [],
   "source": [
    "# merge ur_df with doc_info on 'text'\n",
    "merged_df = ur_df.merge(doc_info, left_on='text', right_on='Document', how='left')\n",
    "assert len(merged_df) == len(ur_df), 'differing length before and after merge, duplicates in right'"
   ]
  },
  {
   "cell_type": "code",
   "execution_count": 7,
   "id": "1fe013c3",
   "metadata": {},
   "outputs": [
    {
     "data": {
      "text/plain": [
       "Index(['id', 'author_id', 'created_at', 'lang', 'text', 'retweeted_id',\n",
       "       'quoted_id', 'replied_id', 'url', 'expanded_url', 'hashtags',\n",
       "       'retweet_count', 'reply_count', 'like_count', 'quote_count', 'username',\n",
       "       'individual_or_org', 'category'],\n",
       "      dtype='object')"
      ]
     },
     "execution_count": 7,
     "metadata": {},
     "output_type": "execute_result"
    }
   ],
   "source": [
    "ur_df.columns"
   ]
  },
  {
   "cell_type": "markdown",
   "id": "971a157b",
   "metadata": {},
   "source": [
    "## Assign Topic to Users\n",
    "Group topics by users, and assign using a threshold "
   ]
  },
  {
   "cell_type": "code",
   "execution_count": null,
   "id": "3b30dc2b",
   "metadata": {},
   "outputs": [],
   "source": [
    "# Function to select dominant topics\n",
    "from collections import Counter\n",
    "\n",
    "def get_user_dominant_topic(topics, threshold=0.5, exclude=-1):\n",
    "    \"\"\"\n",
    "    Args:\n",
    "        topics (list): list of topic labels for a user.\n",
    "        threshold (float): minimum fraction (e.g., 0.5 for 50%) for dominance.\n",
    "        exclude (int or list): topic(s) to exclude, e.g. -1 for bertopic Noise.\n",
    "    \n",
    "    Returns:\n",
    "        int or None: dominant topic if above threshold, else None\n",
    "    \"\"\"\n",
    "    if isinstance(exclude, int):\n",
    "        topics = [t for t in topics if t != exclude]\n",
    "    elif isinstance(exclude, list):\n",
    "        topics = [t for t in topics if t not in exclude]\n",
    "\n",
    "    if not topics:\n",
    "        return None\n",
    "\n",
    "    total = len(topics)\n",
    "    topic_counts = Counter(topics)\n",
    "    top_topic, top_count = topic_counts.most_common(1)[0]\n",
    "    \n",
    "    if top_count / total >= threshold:\n",
    "        return int(top_topic)\n",
    "    return None\n"
   ]
  },
  {
   "cell_type": "markdown",
   "id": "41fad144",
   "metadata": {},
   "source": [
    "Confront user retention using different thresholds"
   ]
  },
  {
   "cell_type": "code",
   "execution_count": null,
   "id": "9aae8abd",
   "metadata": {},
   "outputs": [],
   "source": [
    "user_topics = merged_df.groupby('author_id')['Topic'].apply(list)\n",
    "\n",
    "# Try with 30% threshold\n",
    "user_dominant_topic_30 = user_topics.apply(lambda topics: get_user_dominant_topic(topics, threshold=0.3))\n",
    "\n",
    "# Try with 50% threshold\n",
    "user_dominant_topic_50 = user_topics.apply(lambda topics: get_user_dominant_topic(topics, threshold=0.5))\n",
    "\n",
    "# Try with 60% threshold\n",
    "user_dominant_topic_60 = user_topics.apply(lambda topics: get_user_dominant_topic(topics, threshold=0.6))\n",
    "\n",
    "# Combine into a DataFrame for comparison\n",
    "result = pd.DataFrame({\n",
    "    'dominant_topic_30': user_dominant_topic_30,\n",
    "    'dominant_topic_50': user_dominant_topic_50,\n",
    "    'dominant_topic_60': user_dominant_topic_60\n",
    "})"
   ]
  },
  {
   "cell_type": "markdown",
   "id": "0c395fc9",
   "metadata": {},
   "source": [
    "Verify how many users have a defined value"
   ]
  },
  {
   "cell_type": "code",
   "execution_count": 45,
   "id": "18823f9c",
   "metadata": {},
   "outputs": [
    {
     "name": "stdout",
     "output_type": "stream",
     "text": [
      "NaN with 30% threshold:\t23.0%\n",
      "NaN with 50% threshold:\t9.0%\n",
      "NaN with 60% threshold:\t6.0%\n"
     ]
    }
   ],
   "source": [
    "print(f\"NaN with 30% threshold:\\t{float(round(1 - result.dominant_topic_30.isna().sum()/len(result), 2)*100)}%\")\n",
    "print(f\"NaN with 50% threshold:\\t{float(round(1 - result.dominant_topic_50.isna().sum()/len(result), 2)*100)}%\")\n",
    "print(f\"NaN with 60% threshold:\\t{float(round(1 - result.dominant_topic_60.isna().sum()/len(result), 2)*100)}%\")"
   ]
  },
  {
   "cell_type": "markdown",
   "id": "2d77298e",
   "metadata": {},
   "source": [
    "Topics are floats because some topics are NaN\n",
    "Will eliminate NaN and convert dtype to int when final results will be added"
   ]
  },
  {
   "cell_type": "code",
   "execution_count": 55,
   "id": "49ae194d",
   "metadata": {},
   "outputs": [
    {
     "data": {
      "text/plain": [
       "dominant_topic_30    float64\n",
       "dominant_topic_50    float64\n",
       "dominant_topic_60    float64\n",
       "dtype: object"
      ]
     },
     "execution_count": 55,
     "metadata": {},
     "output_type": "execute_result"
    }
   ],
   "source": [
    "#result.dominant_topic_30 = result.dominant_topic_30.astype(int)\n",
    "result.dtypes"
   ]
  },
  {
   "cell_type": "markdown",
   "id": "6c5c0aa1",
   "metadata": {},
   "source": [
    "## Combine with user metadata\n",
    "Load metadata and explore results"
   ]
  },
  {
   "cell_type": "code",
   "execution_count": 46,
   "id": "53c23ac0",
   "metadata": {},
   "outputs": [
    {
     "data": {
      "text/plain": [
       "Index(['id', 'username', 'individual_or_org', 'category', 'num_of_rt',\n",
       "       'num_of_retweeters', 'V1', 'followers_count', 'following_count',\n",
       "       'tweet_count', 'listed_count'],\n",
       "      dtype='object')"
      ]
     },
     "execution_count": 46,
     "metadata": {},
     "output_type": "execute_result"
    }
   ],
   "source": [
    "# `user_metadata` is a DataFrame with columns like:\n",
    "# 'id', 'individual_or_org', 'category'\n",
    "user_metadata = pd.read_csv(\"./../../data/raw/influencers_summary_cop26.csv\")\n",
    "user_metadata.columns"
   ]
  },
  {
   "cell_type": "code",
   "execution_count": 47,
   "id": "2c8a6486",
   "metadata": {},
   "outputs": [],
   "source": [
    "# Merge with user-topic assignments from previous step\n",
    "combined_df = user_metadata.merge(result[['dominant_topic_50']], left_on='id', right_on='author_id')"
   ]
  },
  {
   "cell_type": "markdown",
   "id": "576c8916",
   "metadata": {},
   "source": [
    "Use crosstabs and grouped bar plots to explore distributions."
   ]
  },
  {
   "cell_type": "code",
   "execution_count": 48,
   "id": "ff0f5689",
   "metadata": {},
   "outputs": [
    {
     "data": {
      "text/html": [
       "<div>\n",
       "<style scoped>\n",
       "    .dataframe tbody tr th:only-of-type {\n",
       "        vertical-align: middle;\n",
       "    }\n",
       "\n",
       "    .dataframe tbody tr th {\n",
       "        vertical-align: top;\n",
       "    }\n",
       "\n",
       "    .dataframe thead th {\n",
       "        text-align: right;\n",
       "    }\n",
       "</style>\n",
       "<table border=\"1\" class=\"dataframe\">\n",
       "  <thead>\n",
       "    <tr style=\"text-align: right;\">\n",
       "      <th>dominant_topic_50</th>\n",
       "      <th>0.0</th>\n",
       "      <th>2.0</th>\n",
       "      <th>4.0</th>\n",
       "      <th>8.0</th>\n",
       "      <th>9.0</th>\n",
       "      <th>10.0</th>\n",
       "      <th>12.0</th>\n",
       "      <th>14.0</th>\n",
       "      <th>15.0</th>\n",
       "      <th>18.0</th>\n",
       "      <th>...</th>\n",
       "      <th>62.0</th>\n",
       "      <th>65.0</th>\n",
       "      <th>66.0</th>\n",
       "      <th>69.0</th>\n",
       "      <th>72.0</th>\n",
       "      <th>73.0</th>\n",
       "      <th>81.0</th>\n",
       "      <th>84.0</th>\n",
       "      <th>126.0</th>\n",
       "      <th>183.0</th>\n",
       "    </tr>\n",
       "    <tr>\n",
       "      <th>individual_or_org</th>\n",
       "      <th></th>\n",
       "      <th></th>\n",
       "      <th></th>\n",
       "      <th></th>\n",
       "      <th></th>\n",
       "      <th></th>\n",
       "      <th></th>\n",
       "      <th></th>\n",
       "      <th></th>\n",
       "      <th></th>\n",
       "      <th></th>\n",
       "      <th></th>\n",
       "      <th></th>\n",
       "      <th></th>\n",
       "      <th></th>\n",
       "      <th></th>\n",
       "      <th></th>\n",
       "      <th></th>\n",
       "      <th></th>\n",
       "      <th></th>\n",
       "      <th></th>\n",
       "    </tr>\n",
       "  </thead>\n",
       "  <tbody>\n",
       "    <tr>\n",
       "      <th>Individual</th>\n",
       "      <td>0.142857</td>\n",
       "      <td>0.000000</td>\n",
       "      <td>0.071429</td>\n",
       "      <td>0.000000</td>\n",
       "      <td>0.000000</td>\n",
       "      <td>0.000000</td>\n",
       "      <td>0.000000</td>\n",
       "      <td>0.071429</td>\n",
       "      <td>0.071429</td>\n",
       "      <td>0.071429</td>\n",
       "      <td>...</td>\n",
       "      <td>0.071429</td>\n",
       "      <td>0.071429</td>\n",
       "      <td>0.000000</td>\n",
       "      <td>0.000000</td>\n",
       "      <td>0.000000</td>\n",
       "      <td>0.071429</td>\n",
       "      <td>0.071429</td>\n",
       "      <td>0.000000</td>\n",
       "      <td>0.000000</td>\n",
       "      <td>0.000000</td>\n",
       "    </tr>\n",
       "    <tr>\n",
       "      <th>Organization</th>\n",
       "      <td>0.029412</td>\n",
       "      <td>0.088235</td>\n",
       "      <td>0.000000</td>\n",
       "      <td>0.029412</td>\n",
       "      <td>0.176471</td>\n",
       "      <td>0.058824</td>\n",
       "      <td>0.088235</td>\n",
       "      <td>0.058824</td>\n",
       "      <td>0.029412</td>\n",
       "      <td>0.000000</td>\n",
       "      <td>...</td>\n",
       "      <td>0.029412</td>\n",
       "      <td>0.000000</td>\n",
       "      <td>0.029412</td>\n",
       "      <td>0.029412</td>\n",
       "      <td>0.029412</td>\n",
       "      <td>0.000000</td>\n",
       "      <td>0.000000</td>\n",
       "      <td>0.029412</td>\n",
       "      <td>0.029412</td>\n",
       "      <td>0.029412</td>\n",
       "    </tr>\n",
       "  </tbody>\n",
       "</table>\n",
       "<p>2 rows × 28 columns</p>\n",
       "</div>"
      ],
      "text/plain": [
       "dominant_topic_50     0.0       2.0       4.0       8.0       9.0       10.0   \\\n",
       "individual_or_org                                                               \n",
       "Individual         0.142857  0.000000  0.071429  0.000000  0.000000  0.000000   \n",
       "Organization       0.029412  0.088235  0.000000  0.029412  0.176471  0.058824   \n",
       "\n",
       "dominant_topic_50     12.0      14.0      15.0      18.0   ...     62.0   \\\n",
       "individual_or_org                                          ...             \n",
       "Individual         0.000000  0.071429  0.071429  0.071429  ...  0.071429   \n",
       "Organization       0.088235  0.058824  0.029412  0.000000  ...  0.029412   \n",
       "\n",
       "dominant_topic_50     65.0      66.0      69.0      72.0      73.0      81.0   \\\n",
       "individual_or_org                                                               \n",
       "Individual         0.071429  0.000000  0.000000  0.000000  0.071429  0.071429   \n",
       "Organization       0.000000  0.029412  0.029412  0.029412  0.000000  0.000000   \n",
       "\n",
       "dominant_topic_50     84.0      126.0     183.0  \n",
       "individual_or_org                                \n",
       "Individual         0.000000  0.000000  0.000000  \n",
       "Organization       0.029412  0.029412  0.029412  \n",
       "\n",
       "[2 rows x 28 columns]"
      ]
     },
     "execution_count": 48,
     "metadata": {},
     "output_type": "execute_result"
    }
   ],
   "source": [
    "pd.crosstab(combined_df['individual_or_org'], combined_df['dominant_topic_50'], normalize='index')"
   ]
  },
  {
   "cell_type": "code",
   "execution_count": 37,
   "id": "a36ca367",
   "metadata": {},
   "outputs": [
    {
     "data": {
      "text/html": [
       "<div>\n",
       "<style scoped>\n",
       "    .dataframe tbody tr th:only-of-type {\n",
       "        vertical-align: middle;\n",
       "    }\n",
       "\n",
       "    .dataframe tbody tr th {\n",
       "        vertical-align: top;\n",
       "    }\n",
       "\n",
       "    .dataframe thead th {\n",
       "        text-align: right;\n",
       "    }\n",
       "</style>\n",
       "<table border=\"1\" class=\"dataframe\">\n",
       "  <thead>\n",
       "    <tr style=\"text-align: right;\">\n",
       "      <th>dominant_topic_50</th>\n",
       "      <th>0.0</th>\n",
       "      <th>2.0</th>\n",
       "      <th>4.0</th>\n",
       "      <th>8.0</th>\n",
       "      <th>9.0</th>\n",
       "      <th>10.0</th>\n",
       "      <th>12.0</th>\n",
       "      <th>14.0</th>\n",
       "      <th>15.0</th>\n",
       "      <th>18.0</th>\n",
       "      <th>...</th>\n",
       "      <th>62.0</th>\n",
       "      <th>65.0</th>\n",
       "      <th>66.0</th>\n",
       "      <th>69.0</th>\n",
       "      <th>72.0</th>\n",
       "      <th>73.0</th>\n",
       "      <th>81.0</th>\n",
       "      <th>84.0</th>\n",
       "      <th>126.0</th>\n",
       "      <th>183.0</th>\n",
       "    </tr>\n",
       "    <tr>\n",
       "      <th>category</th>\n",
       "      <th></th>\n",
       "      <th></th>\n",
       "      <th></th>\n",
       "      <th></th>\n",
       "      <th></th>\n",
       "      <th></th>\n",
       "      <th></th>\n",
       "      <th></th>\n",
       "      <th></th>\n",
       "      <th></th>\n",
       "      <th></th>\n",
       "      <th></th>\n",
       "      <th></th>\n",
       "      <th></th>\n",
       "      <th></th>\n",
       "      <th></th>\n",
       "      <th></th>\n",
       "      <th></th>\n",
       "      <th></th>\n",
       "      <th></th>\n",
       "      <th></th>\n",
       "    </tr>\n",
       "  </thead>\n",
       "  <tbody>\n",
       "    <tr>\n",
       "      <th>Activist</th>\n",
       "      <td>0.000000</td>\n",
       "      <td>0.000000</td>\n",
       "      <td>0.000000</td>\n",
       "      <td>0.000000</td>\n",
       "      <td>0.500000</td>\n",
       "      <td>0.000000</td>\n",
       "      <td>0.000000</td>\n",
       "      <td>0.000000</td>\n",
       "      <td>0.000000</td>\n",
       "      <td>0.00</td>\n",
       "      <td>...</td>\n",
       "      <td>0.000000</td>\n",
       "      <td>0.0</td>\n",
       "      <td>0.000000</td>\n",
       "      <td>0.000000</td>\n",
       "      <td>0.0</td>\n",
       "      <td>0.00</td>\n",
       "      <td>0.00</td>\n",
       "      <td>0.000000</td>\n",
       "      <td>0.5</td>\n",
       "      <td>0.000000</td>\n",
       "    </tr>\n",
       "    <tr>\n",
       "      <th>International Organization / NGO</th>\n",
       "      <td>0.047619</td>\n",
       "      <td>0.142857</td>\n",
       "      <td>0.047619</td>\n",
       "      <td>0.047619</td>\n",
       "      <td>0.238095</td>\n",
       "      <td>0.000000</td>\n",
       "      <td>0.142857</td>\n",
       "      <td>0.047619</td>\n",
       "      <td>0.000000</td>\n",
       "      <td>0.00</td>\n",
       "      <td>...</td>\n",
       "      <td>0.095238</td>\n",
       "      <td>0.0</td>\n",
       "      <td>0.047619</td>\n",
       "      <td>0.000000</td>\n",
       "      <td>0.0</td>\n",
       "      <td>0.00</td>\n",
       "      <td>0.00</td>\n",
       "      <td>0.000000</td>\n",
       "      <td>0.0</td>\n",
       "      <td>0.047619</td>\n",
       "    </tr>\n",
       "    <tr>\n",
       "      <th>Media</th>\n",
       "      <td>0.111111</td>\n",
       "      <td>0.000000</td>\n",
       "      <td>0.000000</td>\n",
       "      <td>0.000000</td>\n",
       "      <td>0.000000</td>\n",
       "      <td>0.111111</td>\n",
       "      <td>0.000000</td>\n",
       "      <td>0.111111</td>\n",
       "      <td>0.111111</td>\n",
       "      <td>0.00</td>\n",
       "      <td>...</td>\n",
       "      <td>0.000000</td>\n",
       "      <td>0.0</td>\n",
       "      <td>0.000000</td>\n",
       "      <td>0.111111</td>\n",
       "      <td>0.0</td>\n",
       "      <td>0.00</td>\n",
       "      <td>0.00</td>\n",
       "      <td>0.000000</td>\n",
       "      <td>0.0</td>\n",
       "      <td>0.000000</td>\n",
       "    </tr>\n",
       "    <tr>\n",
       "      <th>Other</th>\n",
       "      <td>0.000000</td>\n",
       "      <td>0.000000</td>\n",
       "      <td>0.000000</td>\n",
       "      <td>0.000000</td>\n",
       "      <td>0.000000</td>\n",
       "      <td>0.142857</td>\n",
       "      <td>0.000000</td>\n",
       "      <td>0.142857</td>\n",
       "      <td>0.000000</td>\n",
       "      <td>0.00</td>\n",
       "      <td>...</td>\n",
       "      <td>0.000000</td>\n",
       "      <td>0.0</td>\n",
       "      <td>0.000000</td>\n",
       "      <td>0.000000</td>\n",
       "      <td>0.0</td>\n",
       "      <td>0.00</td>\n",
       "      <td>0.00</td>\n",
       "      <td>0.142857</td>\n",
       "      <td>0.0</td>\n",
       "      <td>0.000000</td>\n",
       "    </tr>\n",
       "    <tr>\n",
       "      <th>Politics</th>\n",
       "      <td>0.000000</td>\n",
       "      <td>0.000000</td>\n",
       "      <td>0.000000</td>\n",
       "      <td>0.000000</td>\n",
       "      <td>0.000000</td>\n",
       "      <td>0.000000</td>\n",
       "      <td>0.000000</td>\n",
       "      <td>0.000000</td>\n",
       "      <td>0.200000</td>\n",
       "      <td>0.00</td>\n",
       "      <td>...</td>\n",
       "      <td>0.000000</td>\n",
       "      <td>0.2</td>\n",
       "      <td>0.000000</td>\n",
       "      <td>0.000000</td>\n",
       "      <td>0.2</td>\n",
       "      <td>0.00</td>\n",
       "      <td>0.00</td>\n",
       "      <td>0.000000</td>\n",
       "      <td>0.0</td>\n",
       "      <td>0.000000</td>\n",
       "    </tr>\n",
       "    <tr>\n",
       "      <th>Private Individual</th>\n",
       "      <td>0.250000</td>\n",
       "      <td>0.000000</td>\n",
       "      <td>0.000000</td>\n",
       "      <td>0.000000</td>\n",
       "      <td>0.000000</td>\n",
       "      <td>0.000000</td>\n",
       "      <td>0.000000</td>\n",
       "      <td>0.000000</td>\n",
       "      <td>0.000000</td>\n",
       "      <td>0.25</td>\n",
       "      <td>...</td>\n",
       "      <td>0.000000</td>\n",
       "      <td>0.0</td>\n",
       "      <td>0.000000</td>\n",
       "      <td>0.000000</td>\n",
       "      <td>0.0</td>\n",
       "      <td>0.25</td>\n",
       "      <td>0.25</td>\n",
       "      <td>0.000000</td>\n",
       "      <td>0.0</td>\n",
       "      <td>0.000000</td>\n",
       "    </tr>\n",
       "  </tbody>\n",
       "</table>\n",
       "<p>6 rows × 28 columns</p>\n",
       "</div>"
      ],
      "text/plain": [
       "dominant_topic_50                    0.0       2.0       4.0       8.0    \\\n",
       "category                                                                   \n",
       "Activist                          0.000000  0.000000  0.000000  0.000000   \n",
       "International Organization / NGO  0.047619  0.142857  0.047619  0.047619   \n",
       "Media                             0.111111  0.000000  0.000000  0.000000   \n",
       "Other                             0.000000  0.000000  0.000000  0.000000   \n",
       "Politics                          0.000000  0.000000  0.000000  0.000000   \n",
       "Private Individual                0.250000  0.000000  0.000000  0.000000   \n",
       "\n",
       "dominant_topic_50                    9.0       10.0      12.0      14.0   \\\n",
       "category                                                                   \n",
       "Activist                          0.500000  0.000000  0.000000  0.000000   \n",
       "International Organization / NGO  0.238095  0.000000  0.142857  0.047619   \n",
       "Media                             0.000000  0.111111  0.000000  0.111111   \n",
       "Other                             0.000000  0.142857  0.000000  0.142857   \n",
       "Politics                          0.000000  0.000000  0.000000  0.000000   \n",
       "Private Individual                0.000000  0.000000  0.000000  0.000000   \n",
       "\n",
       "dominant_topic_50                    15.0   18.0   ...     62.0   65.0   \\\n",
       "category                                           ...                    \n",
       "Activist                          0.000000   0.00  ...  0.000000    0.0   \n",
       "International Organization / NGO  0.000000   0.00  ...  0.095238    0.0   \n",
       "Media                             0.111111   0.00  ...  0.000000    0.0   \n",
       "Other                             0.000000   0.00  ...  0.000000    0.0   \n",
       "Politics                          0.200000   0.00  ...  0.000000    0.2   \n",
       "Private Individual                0.000000   0.25  ...  0.000000    0.0   \n",
       "\n",
       "dominant_topic_50                    66.0      69.0   72.0   73.0   81.0   \\\n",
       "category                                                                    \n",
       "Activist                          0.000000  0.000000    0.0   0.00   0.00   \n",
       "International Organization / NGO  0.047619  0.000000    0.0   0.00   0.00   \n",
       "Media                             0.000000  0.111111    0.0   0.00   0.00   \n",
       "Other                             0.000000  0.000000    0.0   0.00   0.00   \n",
       "Politics                          0.000000  0.000000    0.2   0.00   0.00   \n",
       "Private Individual                0.000000  0.000000    0.0   0.25   0.25   \n",
       "\n",
       "dominant_topic_50                    84.0   126.0     183.0  \n",
       "category                                                     \n",
       "Activist                          0.000000    0.5  0.000000  \n",
       "International Organization / NGO  0.000000    0.0  0.047619  \n",
       "Media                             0.000000    0.0  0.000000  \n",
       "Other                             0.142857    0.0  0.000000  \n",
       "Politics                          0.000000    0.0  0.000000  \n",
       "Private Individual                0.000000    0.0  0.000000  \n",
       "\n",
       "[6 rows x 28 columns]"
      ]
     },
     "execution_count": 37,
     "metadata": {},
     "output_type": "execute_result"
    }
   ],
   "source": [
    "pd.crosstab(combined_df['category'], combined_df['dominant_topic_50'], normalize='index')"
   ]
  },
  {
   "cell_type": "code",
   "execution_count": 66,
   "id": "0288270c",
   "metadata": {},
   "outputs": [
    {
     "data": {
      "image/png": "[encoded data removed]",
      "text/plain": [
       "<Figure size 640x480 with 1 Axes>"
      ]
     },
     "metadata": {},
     "output_type": "display_data"
    }
   ],
   "source": [
    "import seaborn as sns\n",
    "import matplotlib.pyplot as plt\n",
    "\n",
    "sns.countplot(data=combined_df, x='dominant_topic_50', hue='individual_or_org')\n",
    "plt.title(\"Topic Distribution by individual_or_org\")\n",
    "plt.xticks(rotation=45)\n",
    "plt.show()"
   ]
  },
  {
   "cell_type": "code",
   "execution_count": null,
   "id": "9be9601e",
   "metadata": {},
   "outputs": [
    {
     "data": {
      "image/png": "[encoded data removed]",
      "text/plain": [
       "<Figure size 640x480 with 1 Axes>"
      ]
     },
     "metadata": {},
     "output_type": "display_data"
    }
   ],
   "source": [
    "\n",
    "\n",
    "sns.countplot(data=combined_df, x='dominant_topic_50', hue='category')\n",
    "plt.title(\"Topic Distribution by Category\")\n",
    "plt.xticks(rotation=45)\n",
    "plt.show()\n"
   ]
  },
  {
   "cell_type": "markdown",
   "id": "a4101c49",
   "metadata": {},
   "source": [
    "## Statistical Test for Association\n",
    "### Chi²\n",
    "Use Chi² for categorical association, and Cramer's V\n",
    "Low p-value (e.g. < 0.05) → strong evidence that topic assignment and political leaning are not independent.\n",
    "### Cramer's V \n",
    "Interpretation of effect size\n",
    "\n",
    "|Effect size (ES) | Interpretation|\n",
    "| --------- | --------- |\n",
    "|ES ≤ 0.2\t| The result is weak. Although the result is statistically significant, the fields are only weakly associated.|\n",
    "|0.2 < ES ≤ 0.6\t| The result is moderate. The fields are moderately associated.|\n",
    "|ES > 0.6\t| The result is strong. The fields are strongly associated.|\n"
   ]
  },
  {
   "cell_type": "markdown",
   "id": "6963f528",
   "metadata": {},
   "source": [
    "### Individual or Organization"
   ]
  },
  {
   "cell_type": "code",
   "execution_count": 61,
   "id": "8ef7c399",
   "metadata": {},
   "outputs": [
    {
     "name": "stdout",
     "output_type": "stream",
     "text": [
      "Chi-square statistic: 34.285714285714285, p-value: 0.1578980035941924\n"
     ]
    }
   ],
   "source": [
    "from scipy.stats import chi2_contingency\n",
    "\n",
    "contingency_table = pd.crosstab(combined_df['individual_or_org'], combined_df['dominant_topic_50'])\n",
    "chi2, p, dof, expected = chi2_contingency(contingency_table)\n",
    "\n",
    "print(f\"Chi-square statistic: {chi2}, p-value: {p}\")\n"
   ]
  },
  {
   "cell_type": "code",
   "execution_count": 62,
   "id": "9fb0cb71",
   "metadata": {},
   "outputs": [
    {
     "data": {
      "text/plain": [
       "np.float64(0.8451542547285166)"
      ]
     },
     "execution_count": 62,
     "metadata": {},
     "output_type": "execute_result"
    }
   ],
   "source": [
    "import numpy as np\n",
    "\n",
    "def cramers_v(confusion_matrix):\n",
    "    chi2 = chi2_contingency(confusion_matrix)[0]\n",
    "    n = confusion_matrix.sum().sum()\n",
    "    return np.sqrt(chi2 / (n * (min(confusion_matrix.shape) - 1)))\n",
    "\n",
    "cramers_v(contingency_table)\n"
   ]
  },
  {
   "cell_type": "markdown",
   "id": "6e3fa367",
   "metadata": {},
   "source": [
    "### Category"
   ]
  },
  {
   "cell_type": "code",
   "execution_count": 63,
   "id": "2d6b52b9",
   "metadata": {},
   "outputs": [
    {
     "name": "stdout",
     "output_type": "stream",
     "text": [
      "Chi-square statistic: 167.5809523809524, p-value: 0.029891048139673495\n"
     ]
    }
   ],
   "source": [
    "contingency_table = pd.crosstab(combined_df['category'], combined_df['dominant_topic_50'])\n",
    "chi2, p, dof, expected = chi2_contingency(contingency_table)\n",
    "\n",
    "print(f\"Chi-square statistic: {chi2}, p-value: {p}\")\n"
   ]
  },
  {
   "cell_type": "code",
   "execution_count": 64,
   "id": "e05f8714",
   "metadata": {},
   "outputs": [
    {
     "data": {
      "text/plain": [
       "np.float64(0.8356159214938215)"
      ]
     },
     "execution_count": 64,
     "metadata": {},
     "output_type": "execute_result"
    }
   ],
   "source": [
    "import numpy as np\n",
    "\n",
    "def cramers_v(confusion_matrix):\n",
    "    chi2 = chi2_contingency(confusion_matrix)[0]\n",
    "    n = confusion_matrix.sum().sum()\n",
    "    return np.sqrt(chi2 / (n * (min(confusion_matrix.shape) - 1)))\n",
    "\n",
    "cramers_v(contingency_table)\n"
   ]
  }
 ],
 "metadata": {
  "kernelspec": {
   "display_name": ".venv",
   "language": "python",
   "name": "python3"
  },
  "language_info": {
   "codemirror_mode": {
    "name": "ipython",
    "version": 3
   },
   "file_extension": ".py",
   "mimetype": "text/x-python",
   "name": "python",
   "nbconvert_exporter": "python",
   "pygments_lexer": "ipython3",
   "version": "3.12.3"
  }
 },
 "nbformat": 4,
 "nbformat_minor": 5
}
