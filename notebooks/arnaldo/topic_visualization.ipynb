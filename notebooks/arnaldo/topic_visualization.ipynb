{
 "cells": [
  {
   "cell_type": "code",
   "execution_count": null,
   "id": "61fe5244",
   "metadata": {},
   "outputs": [
    {
     "ename": "ValueError",
     "evalue": "too many values to unpack (expected 2)",
     "output_type": "error",
     "traceback": [
      "\u001b[31m---------------------------------------------------------------------------\u001b[39m",
      "\u001b[31mValueError\u001b[39m                                Traceback (most recent call last)",
      "\u001b[36mCell\u001b[39m\u001b[36m \u001b[39m\u001b[32mIn[2]\u001b[39m\u001b[32m, line 4\u001b[39m\n\u001b[32m      2\u001b[39m \u001b[38;5;28;01mfrom\u001b[39;00m\u001b[38;5;250m \u001b[39m\u001b[34;01mbertopic\u001b[39;00m\u001b[38;5;250m \u001b[39m\u001b[38;5;28;01mimport\u001b[39;00m BERTopic\n\u001b[32m      3\u001b[39m df = pd.read_parquet(\u001b[33m\"\u001b[39m\u001b[33m./../../data/raw/cop26_tweets_en.parquet\u001b[39m\u001b[33m\"\u001b[39m)\n\u001b[32m----> \u001b[39m\u001b[32m4\u001b[39m model , dunno = \u001b[43mBERTopic\u001b[49m\u001b[43m.\u001b[49m\u001b[43mload\u001b[49m\u001b[43m(\u001b[49m\u001b[33;43m\"\u001b[39;49m\u001b[33;43m./../../models/cop26_tweets_en.parquet.topic_model\u001b[39;49m\u001b[33;43m\"\u001b[39;49m\u001b[43m)\u001b[49m\n",
      "\u001b[36mFile \u001b[39m\u001b[32m~/Documents/prog-projects/complexity72_25/.venv/lib/python3.12/site-packages/bertopic/_bertopic.py:3387\u001b[39m, in \u001b[36mBERTopic.load\u001b[39m\u001b[34m(cls, path, embedding_model)\u001b[39m\n\u001b[32m   3385\u001b[39m             topic_model.embedding_model = select_backend(embedding_model, verbose=topic_model.verbose)\n\u001b[32m   3386\u001b[39m         \u001b[38;5;28;01melse\u001b[39;00m:\n\u001b[32m-> \u001b[39m\u001b[32m3387\u001b[39m             topic_model = \u001b[43mjoblib\u001b[49m\u001b[43m.\u001b[49m\u001b[43mload\u001b[49m\u001b[43m(\u001b[49m\u001b[43mfile\u001b[49m\u001b[43m)\u001b[49m\n\u001b[32m   3388\u001b[39m         \u001b[38;5;28;01mreturn\u001b[39;00m topic_model\n\u001b[32m   3390\u001b[39m \u001b[38;5;66;03m# Load from directory or HF\u001b[39;00m\n",
      "\u001b[36mFile \u001b[39m\u001b[32m~/Documents/prog-projects/complexity72_25/.venv/lib/python3.12/site-packages/joblib/numpy_pickle.py:733\u001b[39m, in \u001b[36mload\u001b[39m\u001b[34m(filename, mmap_mode, ensure_native_byte_order)\u001b[39m\n\u001b[32m    731\u001b[39m     filename = \u001b[38;5;28mgetattr\u001b[39m(fobj, \u001b[33m\"\u001b[39m\u001b[33mname\u001b[39m\u001b[33m\"\u001b[39m, \u001b[33m\"\u001b[39m\u001b[33m\"\u001b[39m)\n\u001b[32m    732\u001b[39m     \u001b[38;5;28;01mwith\u001b[39;00m _validate_fileobject_and_memmap(fobj, filename, mmap_mode) \u001b[38;5;28;01mas\u001b[39;00m (fobj, _):\n\u001b[32m--> \u001b[39m\u001b[32m733\u001b[39m         obj = \u001b[43m_unpickle\u001b[49m\u001b[43m(\u001b[49m\u001b[43mfobj\u001b[49m\u001b[43m,\u001b[49m\u001b[43m \u001b[49m\u001b[43mensure_native_byte_order\u001b[49m\u001b[43m=\u001b[49m\u001b[43mensure_native_byte_order\u001b[49m\u001b[43m)\u001b[49m\n\u001b[32m    734\u001b[39m \u001b[38;5;28;01melse\u001b[39;00m:\n\u001b[32m    735\u001b[39m     \u001b[38;5;28;01mwith\u001b[39;00m \u001b[38;5;28mopen\u001b[39m(filename, \u001b[33m\"\u001b[39m\u001b[33mrb\u001b[39m\u001b[33m\"\u001b[39m) \u001b[38;5;28;01mas\u001b[39;00m f:\n",
      "\u001b[36mFile \u001b[39m\u001b[32m~/Documents/prog-projects/complexity72_25/.venv/lib/python3.12/site-packages/joblib/numpy_pickle.py:626\u001b[39m, in \u001b[36m_unpickle\u001b[39m\u001b[34m(fobj, ensure_native_byte_order, filename, mmap_mode)\u001b[39m\n\u001b[32m    624\u001b[39m obj = \u001b[38;5;28;01mNone\u001b[39;00m\n\u001b[32m    625\u001b[39m \u001b[38;5;28;01mtry\u001b[39;00m:\n\u001b[32m--> \u001b[39m\u001b[32m626\u001b[39m     obj = \u001b[43munpickler\u001b[49m\u001b[43m.\u001b[49m\u001b[43mload\u001b[49m\u001b[43m(\u001b[49m\u001b[43m)\u001b[49m\n\u001b[32m    627\u001b[39m     \u001b[38;5;28;01mif\u001b[39;00m unpickler.compat_mode:\n\u001b[32m    628\u001b[39m         warnings.warn(\n\u001b[32m    629\u001b[39m             \u001b[33m\"\u001b[39m\u001b[33mThe file \u001b[39m\u001b[33m'\u001b[39m\u001b[38;5;132;01m%s\u001b[39;00m\u001b[33m'\u001b[39m\u001b[33m has been generated with a \u001b[39m\u001b[33m\"\u001b[39m\n\u001b[32m    630\u001b[39m             \u001b[33m\"\u001b[39m\u001b[33mjoblib version less than 0.10. \u001b[39m\u001b[33m\"\u001b[39m\n\u001b[32m   (...)\u001b[39m\u001b[32m    633\u001b[39m             stacklevel=\u001b[32m3\u001b[39m,\n\u001b[32m    634\u001b[39m         )\n",
      "\u001b[36mFile \u001b[39m\u001b[32m/usr/lib/python3.12/pickle.py:1205\u001b[39m, in \u001b[36m_Unpickler.load\u001b[39m\u001b[34m(self)\u001b[39m\n\u001b[32m   1203\u001b[39m             \u001b[38;5;28;01mraise\u001b[39;00m \u001b[38;5;167;01mEOFError\u001b[39;00m\n\u001b[32m   1204\u001b[39m         \u001b[38;5;28;01massert\u001b[39;00m \u001b[38;5;28misinstance\u001b[39m(key, bytes_types)\n\u001b[32m-> \u001b[39m\u001b[32m1205\u001b[39m         \u001b[43mdispatch\u001b[49m\u001b[43m[\u001b[49m\u001b[43mkey\u001b[49m\u001b[43m[\u001b[49m\u001b[32;43m0\u001b[39;49m\u001b[43m]\u001b[49m\u001b[43m]\u001b[49m\u001b[43m(\u001b[49m\u001b[38;5;28;43mself\u001b[39;49m\u001b[43m)\u001b[49m\n\u001b[32m   1206\u001b[39m \u001b[38;5;28;01mexcept\u001b[39;00m _Stop \u001b[38;5;28;01mas\u001b[39;00m stopinst:\n\u001b[32m   1207\u001b[39m     \u001b[38;5;28;01mreturn\u001b[39;00m stopinst.value\n",
      "\u001b[36mFile \u001b[39m\u001b[32m/usr/lib/python3.12/pickle.py:1582\u001b[39m, in \u001b[36m_Unpickler.load_reduce\u001b[39m\u001b[34m(self)\u001b[39m\n\u001b[32m   1580\u001b[39m args = stack.pop()\n\u001b[32m   1581\u001b[39m func = stack[-\u001b[32m1\u001b[39m]\n\u001b[32m-> \u001b[39m\u001b[32m1582\u001b[39m stack[-\u001b[32m1\u001b[39m] = \u001b[43mfunc\u001b[49m\u001b[43m(\u001b[49m\u001b[43m*\u001b[49m\u001b[43margs\u001b[49m\u001b[43m)\u001b[49m\n",
      "\u001b[36mFile \u001b[39m\u001b[32m~/Documents/prog-projects/complexity72_25/.venv/lib/python3.12/site-packages/numba/core/serialize.py:110\u001b[39m, in \u001b[36m_unpickle__CustomPickled\u001b[39m\u001b[34m(serialized)\u001b[39m\n\u001b[32m    105\u001b[39m \u001b[38;5;28;01mdef\u001b[39;00m\u001b[38;5;250m \u001b[39m\u001b[34m_unpickle__CustomPickled\u001b[39m(serialized):\n\u001b[32m    106\u001b[39m \u001b[38;5;250m    \u001b[39m\u001b[33;03m\"\"\"standard unpickling for `_CustomPickled`.\u001b[39;00m\n\u001b[32m    107\u001b[39m \n\u001b[32m    108\u001b[39m \u001b[33;03m    Uses `NumbaPickler` to load.\u001b[39;00m\n\u001b[32m    109\u001b[39m \u001b[33;03m    \"\"\"\u001b[39;00m\n\u001b[32m--> \u001b[39m\u001b[32m110\u001b[39m     ctor, states = \u001b[43mloads\u001b[49m\u001b[43m(\u001b[49m\u001b[43mserialized\u001b[49m\u001b[43m)\u001b[49m\n\u001b[32m    111\u001b[39m     \u001b[38;5;28;01mreturn\u001b[39;00m _CustomPickled(ctor, states)\n",
      "\u001b[36mFile \u001b[39m\u001b[32m/home/aleg/miniconda3/envs/torch_env/lib/python3.11/site-packages/numba/core/serialize.py:102\u001b[39m, in \u001b[36m_rebuild\u001b[39m\u001b[34m(cls, ctor, states)\u001b[39m\n",
      "\u001b[31mValueError\u001b[39m: too many values to unpack (expected 2)"
     ]
    }
   ],
   "source": [
    "import pandas as pd\n",
    "df = pd.read_parquet(\"./../../data/raw/cop26_tweets_en.parquet\")"
   ]
  },
  {
   "cell_type": "code",
   "execution_count": 1,
   "id": "9342e7b8",
   "metadata": {},
   "outputs": [
    {
     "name": "stdout",
     "output_type": "stream",
     "text": [
      "Collecting bertopic==0.17\n",
      "  Using cached bertopic-0.17.0-py3-none-any.whl.metadata (23 kB)\n",
      "Requirement already satisfied: hdbscan>=0.8.29 in /home/arnaldo/Documents/prog-projects/complexity72_25/.venv/lib/python3.12/site-packages (from bertopic==0.17) (0.8.40)\n",
      "Requirement already satisfied: numpy>=1.20.0 in /home/arnaldo/Documents/prog-projects/complexity72_25/.venv/lib/python3.12/site-packages (from bertopic==0.17) (2.2.6)\n",
      "Requirement already satisfied: pandas>=1.1.5 in /home/arnaldo/Documents/prog-projects/complexity72_25/.venv/lib/python3.12/site-packages (from bertopic==0.17) (2.3.0)\n",
      "Requirement already satisfied: plotly>=4.7.0 in /home/arnaldo/Documents/prog-projects/complexity72_25/.venv/lib/python3.12/site-packages (from bertopic==0.17) (6.1.2)\n",
      "Requirement already satisfied: scikit-learn>=1.0 in /home/arnaldo/Documents/prog-projects/complexity72_25/.venv/lib/python3.12/site-packages (from bertopic==0.17) (1.7.0)\n",
      "Requirement already satisfied: sentence-transformers>=0.4.1 in /home/arnaldo/Documents/prog-projects/complexity72_25/.venv/lib/python3.12/site-packages (from bertopic==0.17) (4.1.0)\n",
      "Requirement already satisfied: tqdm>=4.41.1 in /home/arnaldo/Documents/prog-projects/complexity72_25/.venv/lib/python3.12/site-packages (from bertopic==0.17) (4.67.1)\n",
      "Requirement already satisfied: umap-learn>=0.5.0 in /home/arnaldo/Documents/prog-projects/complexity72_25/.venv/lib/python3.12/site-packages (from bertopic==0.17) (0.5.7)\n",
      "Requirement already satisfied: scipy>=1.0 in /home/arnaldo/Documents/prog-projects/complexity72_25/.venv/lib/python3.12/site-packages (from hdbscan>=0.8.29->bertopic==0.17) (1.16.0)\n",
      "Requirement already satisfied: joblib>=1.0 in /home/arnaldo/Documents/prog-projects/complexity72_25/.venv/lib/python3.12/site-packages (from hdbscan>=0.8.29->bertopic==0.17) (1.5.1)\n",
      "Requirement already satisfied: python-dateutil>=2.8.2 in /home/arnaldo/Documents/prog-projects/complexity72_25/.venv/lib/python3.12/site-packages (from pandas>=1.1.5->bertopic==0.17) (2.9.0.post0)\n",
      "Requirement already satisfied: pytz>=2020.1 in /home/arnaldo/Documents/prog-projects/complexity72_25/.venv/lib/python3.12/site-packages (from pandas>=1.1.5->bertopic==0.17) (2025.2)\n",
      "Requirement already satisfied: tzdata>=2022.7 in /home/arnaldo/Documents/prog-projects/complexity72_25/.venv/lib/python3.12/site-packages (from pandas>=1.1.5->bertopic==0.17) (2025.2)\n",
      "Requirement already satisfied: narwhals>=1.15.1 in /home/arnaldo/Documents/prog-projects/complexity72_25/.venv/lib/python3.12/site-packages (from plotly>=4.7.0->bertopic==0.17) (1.44.0)\n",
      "Requirement already satisfied: packaging in /home/arnaldo/Documents/prog-projects/complexity72_25/.venv/lib/python3.12/site-packages (from plotly>=4.7.0->bertopic==0.17) (25.0)\n",
      "Requirement already satisfied: threadpoolctl>=3.1.0 in /home/arnaldo/Documents/prog-projects/complexity72_25/.venv/lib/python3.12/site-packages (from scikit-learn>=1.0->bertopic==0.17) (3.6.0)\n",
      "Requirement already satisfied: transformers<5.0.0,>=4.41.0 in /home/arnaldo/Documents/prog-projects/complexity72_25/.venv/lib/python3.12/site-packages (from sentence-transformers>=0.4.1->bertopic==0.17) (4.52.4)\n",
      "Requirement already satisfied: torch>=1.11.0 in /home/arnaldo/Documents/prog-projects/complexity72_25/.venv/lib/python3.12/site-packages (from sentence-transformers>=0.4.1->bertopic==0.17) (2.7.1)\n",
      "Requirement already satisfied: huggingface-hub>=0.20.0 in /home/arnaldo/Documents/prog-projects/complexity72_25/.venv/lib/python3.12/site-packages (from sentence-transformers>=0.4.1->bertopic==0.17) (0.33.0)\n",
      "Requirement already satisfied: Pillow in /home/arnaldo/Documents/prog-projects/complexity72_25/.venv/lib/python3.12/site-packages (from sentence-transformers>=0.4.1->bertopic==0.17) (11.2.1)\n",
      "Requirement already satisfied: typing_extensions>=4.5.0 in /home/arnaldo/Documents/prog-projects/complexity72_25/.venv/lib/python3.12/site-packages (from sentence-transformers>=0.4.1->bertopic==0.17) (4.14.0)\n",
      "Requirement already satisfied: numba>=0.51.2 in /home/arnaldo/Documents/prog-projects/complexity72_25/.venv/lib/python3.12/site-packages (from umap-learn>=0.5.0->bertopic==0.17) (0.61.2)\n",
      "Requirement already satisfied: pynndescent>=0.5 in /home/arnaldo/Documents/prog-projects/complexity72_25/.venv/lib/python3.12/site-packages (from umap-learn>=0.5.0->bertopic==0.17) (0.5.13)\n",
      "Requirement already satisfied: filelock in /home/arnaldo/Documents/prog-projects/complexity72_25/.venv/lib/python3.12/site-packages (from huggingface-hub>=0.20.0->sentence-transformers>=0.4.1->bertopic==0.17) (3.18.0)\n",
      "Requirement already satisfied: fsspec>=2023.5.0 in /home/arnaldo/Documents/prog-projects/complexity72_25/.venv/lib/python3.12/site-packages (from huggingface-hub>=0.20.0->sentence-transformers>=0.4.1->bertopic==0.17) (2025.5.1)\n",
      "Requirement already satisfied: pyyaml>=5.1 in /home/arnaldo/Documents/prog-projects/complexity72_25/.venv/lib/python3.12/site-packages (from huggingface-hub>=0.20.0->sentence-transformers>=0.4.1->bertopic==0.17) (6.0.2)\n",
      "Requirement already satisfied: requests in /home/arnaldo/Documents/prog-projects/complexity72_25/.venv/lib/python3.12/site-packages (from huggingface-hub>=0.20.0->sentence-transformers>=0.4.1->bertopic==0.17) (2.32.4)\n",
      "Requirement already satisfied: hf-xet<2.0.0,>=1.1.2 in /home/arnaldo/Documents/prog-projects/complexity72_25/.venv/lib/python3.12/site-packages (from huggingface-hub>=0.20.0->sentence-transformers>=0.4.1->bertopic==0.17) (1.1.5)\n",
      "Requirement already satisfied: llvmlite<0.45,>=0.44.0dev0 in /home/arnaldo/Documents/prog-projects/complexity72_25/.venv/lib/python3.12/site-packages (from numba>=0.51.2->umap-learn>=0.5.0->bertopic==0.17) (0.44.0)\n",
      "Requirement already satisfied: six>=1.5 in /home/arnaldo/Documents/prog-projects/complexity72_25/.venv/lib/python3.12/site-packages (from python-dateutil>=2.8.2->pandas>=1.1.5->bertopic==0.17) (1.17.0)\n",
      "Requirement already satisfied: setuptools in /home/arnaldo/Documents/prog-projects/complexity72_25/.venv/lib/python3.12/site-packages (from torch>=1.11.0->sentence-transformers>=0.4.1->bertopic==0.17) (80.9.0)\n",
      "Requirement already satisfied: sympy>=1.13.3 in /home/arnaldo/Documents/prog-projects/complexity72_25/.venv/lib/python3.12/site-packages (from torch>=1.11.0->sentence-transformers>=0.4.1->bertopic==0.17) (1.14.0)\n",
      "Requirement already satisfied: networkx in /home/arnaldo/Documents/prog-projects/complexity72_25/.venv/lib/python3.12/site-packages (from torch>=1.11.0->sentence-transformers>=0.4.1->bertopic==0.17) (3.5)\n",
      "Requirement already satisfied: jinja2 in /home/arnaldo/Documents/prog-projects/complexity72_25/.venv/lib/python3.12/site-packages (from torch>=1.11.0->sentence-transformers>=0.4.1->bertopic==0.17) (3.1.6)\n",
      "Requirement already satisfied: nvidia-cuda-nvrtc-cu12==12.6.77 in /home/arnaldo/Documents/prog-projects/complexity72_25/.venv/lib/python3.12/site-packages (from torch>=1.11.0->sentence-transformers>=0.4.1->bertopic==0.17) (12.6.77)\n",
      "Requirement already satisfied: nvidia-cuda-runtime-cu12==12.6.77 in /home/arnaldo/Documents/prog-projects/complexity72_25/.venv/lib/python3.12/site-packages (from torch>=1.11.0->sentence-transformers>=0.4.1->bertopic==0.17) (12.6.77)\n",
      "Requirement already satisfied: nvidia-cuda-cupti-cu12==12.6.80 in /home/arnaldo/Documents/prog-projects/complexity72_25/.venv/lib/python3.12/site-packages (from torch>=1.11.0->sentence-transformers>=0.4.1->bertopic==0.17) (12.6.80)\n",
      "Requirement already satisfied: nvidia-cudnn-cu12==9.5.1.17 in /home/arnaldo/Documents/prog-projects/complexity72_25/.venv/lib/python3.12/site-packages (from torch>=1.11.0->sentence-transformers>=0.4.1->bertopic==0.17) (9.5.1.17)\n",
      "Requirement already satisfied: nvidia-cublas-cu12==12.6.4.1 in /home/arnaldo/Documents/prog-projects/complexity72_25/.venv/lib/python3.12/site-packages (from torch>=1.11.0->sentence-transformers>=0.4.1->bertopic==0.17) (12.6.4.1)\n",
      "Requirement already satisfied: nvidia-cufft-cu12==11.3.0.4 in /home/arnaldo/Documents/prog-projects/complexity72_25/.venv/lib/python3.12/site-packages (from torch>=1.11.0->sentence-transformers>=0.4.1->bertopic==0.17) (11.3.0.4)\n",
      "Requirement already satisfied: nvidia-curand-cu12==10.3.7.77 in /home/arnaldo/Documents/prog-projects/complexity72_25/.venv/lib/python3.12/site-packages (from torch>=1.11.0->sentence-transformers>=0.4.1->bertopic==0.17) (10.3.7.77)\n",
      "Requirement already satisfied: nvidia-cusolver-cu12==11.7.1.2 in /home/arnaldo/Documents/prog-projects/complexity72_25/.venv/lib/python3.12/site-packages (from torch>=1.11.0->sentence-transformers>=0.4.1->bertopic==0.17) (11.7.1.2)\n",
      "Requirement already satisfied: nvidia-cusparse-cu12==12.5.4.2 in /home/arnaldo/Documents/prog-projects/complexity72_25/.venv/lib/python3.12/site-packages (from torch>=1.11.0->sentence-transformers>=0.4.1->bertopic==0.17) (12.5.4.2)\n",
      "Requirement already satisfied: nvidia-cusparselt-cu12==0.6.3 in /home/arnaldo/Documents/prog-projects/complexity72_25/.venv/lib/python3.12/site-packages (from torch>=1.11.0->sentence-transformers>=0.4.1->bertopic==0.17) (0.6.3)\n",
      "Requirement already satisfied: nvidia-nccl-cu12==2.26.2 in /home/arnaldo/Documents/prog-projects/complexity72_25/.venv/lib/python3.12/site-packages (from torch>=1.11.0->sentence-transformers>=0.4.1->bertopic==0.17) (2.26.2)\n",
      "Requirement already satisfied: nvidia-nvtx-cu12==12.6.77 in /home/arnaldo/Documents/prog-projects/complexity72_25/.venv/lib/python3.12/site-packages (from torch>=1.11.0->sentence-transformers>=0.4.1->bertopic==0.17) (12.6.77)\n",
      "Requirement already satisfied: nvidia-nvjitlink-cu12==12.6.85 in /home/arnaldo/Documents/prog-projects/complexity72_25/.venv/lib/python3.12/site-packages (from torch>=1.11.0->sentence-transformers>=0.4.1->bertopic==0.17) (12.6.85)\n",
      "Requirement already satisfied: nvidia-cufile-cu12==1.11.1.6 in /home/arnaldo/Documents/prog-projects/complexity72_25/.venv/lib/python3.12/site-packages (from torch>=1.11.0->sentence-transformers>=0.4.1->bertopic==0.17) (1.11.1.6)\n",
      "Requirement already satisfied: triton==3.3.1 in /home/arnaldo/Documents/prog-projects/complexity72_25/.venv/lib/python3.12/site-packages (from torch>=1.11.0->sentence-transformers>=0.4.1->bertopic==0.17) (3.3.1)\n",
      "Requirement already satisfied: regex!=2019.12.17 in /home/arnaldo/Documents/prog-projects/complexity72_25/.venv/lib/python3.12/site-packages (from transformers<5.0.0,>=4.41.0->sentence-transformers>=0.4.1->bertopic==0.17) (2024.11.6)\n",
      "Requirement already satisfied: tokenizers<0.22,>=0.21 in /home/arnaldo/Documents/prog-projects/complexity72_25/.venv/lib/python3.12/site-packages (from transformers<5.0.0,>=4.41.0->sentence-transformers>=0.4.1->bertopic==0.17) (0.21.2)\n",
      "Requirement already satisfied: safetensors>=0.4.3 in /home/arnaldo/Documents/prog-projects/complexity72_25/.venv/lib/python3.12/site-packages (from transformers<5.0.0,>=4.41.0->sentence-transformers>=0.4.1->bertopic==0.17) (0.5.3)\n",
      "Requirement already satisfied: mpmath<1.4,>=1.1.0 in /home/arnaldo/Documents/prog-projects/complexity72_25/.venv/lib/python3.12/site-packages (from sympy>=1.13.3->torch>=1.11.0->sentence-transformers>=0.4.1->bertopic==0.17) (1.3.0)\n",
      "Requirement already satisfied: MarkupSafe>=2.0 in /home/arnaldo/Documents/prog-projects/complexity72_25/.venv/lib/python3.12/site-packages (from jinja2->torch>=1.11.0->sentence-transformers>=0.4.1->bertopic==0.17) (3.0.2)\n",
      "Requirement already satisfied: charset_normalizer<4,>=2 in /home/arnaldo/Documents/prog-projects/complexity72_25/.venv/lib/python3.12/site-packages (from requests->huggingface-hub>=0.20.0->sentence-transformers>=0.4.1->bertopic==0.17) (3.4.2)\n",
      "Requirement already satisfied: idna<4,>=2.5 in /home/arnaldo/Documents/prog-projects/complexity72_25/.venv/lib/python3.12/site-packages (from requests->huggingface-hub>=0.20.0->sentence-transformers>=0.4.1->bertopic==0.17) (3.10)\n",
      "Requirement already satisfied: urllib3<3,>=1.21.1 in /home/arnaldo/Documents/prog-projects/complexity72_25/.venv/lib/python3.12/site-packages (from requests->huggingface-hub>=0.20.0->sentence-transformers>=0.4.1->bertopic==0.17) (2.5.0)\n",
      "Requirement already satisfied: certifi>=2017.4.17 in /home/arnaldo/Documents/prog-projects/complexity72_25/.venv/lib/python3.12/site-packages (from requests->huggingface-hub>=0.20.0->sentence-transformers>=0.4.1->bertopic==0.17) (2025.6.15)\n",
      "Using cached bertopic-0.17.0-py3-none-any.whl (150 kB)\n",
      "Installing collected packages: bertopic\n",
      "  Attempting uninstall: bertopic\n",
      "    Found existing installation: bertopic 0.14.1\n",
      "    Uninstalling bertopic-0.14.1:\n",
      "      Successfully uninstalled bertopic-0.14.1\n",
      "Successfully installed bertopic-0.17.0\n"
     ]
    },
    {
     "name": "stderr",
     "output_type": "stream",
     "text": [
      "/home/arnaldo/Documents/prog-projects/complexity72_25/.venv/lib/python3.12/site-packages/tqdm/auto.py:21: TqdmWarning: IProgress not found. Please update jupyter and ipywidgets. See https://ipywidgets.readthedocs.io/en/stable/user_install.html\n",
      "  from .autonotebook import tqdm as notebook_tqdm\n"
     ]
    },
    {
     "ename": "ValueError",
     "evalue": "too many values to unpack (expected 2)",
     "output_type": "error",
     "traceback": [
      "\u001b[31m---------------------------------------------------------------------------\u001b[39m",
      "\u001b[31mValueError\u001b[39m                                Traceback (most recent call last)",
      "\u001b[36mCell\u001b[39m\u001b[36m \u001b[39m\u001b[32mIn[1]\u001b[39m\u001b[32m, line 3\u001b[39m\n\u001b[32m      1\u001b[39m get_ipython().system(\u001b[33m'\u001b[39m\u001b[33mpip install bertopic==0.17\u001b[39m\u001b[33m'\u001b[39m)\n\u001b[32m      2\u001b[39m \u001b[38;5;28;01mfrom\u001b[39;00m\u001b[38;5;250m \u001b[39m\u001b[34;01mbertopic\u001b[39;00m\u001b[38;5;250m \u001b[39m\u001b[38;5;28;01mimport\u001b[39;00m BERTopic\n\u001b[32m----> \u001b[39m\u001b[32m3\u001b[39m model  = \u001b[43mBERTopic\u001b[49m\u001b[43m.\u001b[49m\u001b[43mload\u001b[49m\u001b[43m(\u001b[49m\u001b[33;43m\"\u001b[39;49m\u001b[33;43m./../../models/cop26_tweets_en.parquet.topic_model\u001b[39;49m\u001b[33;43m\"\u001b[39;49m\u001b[43m)\u001b[49m\n",
      "\u001b[36mFile \u001b[39m\u001b[32m~/Documents/prog-projects/complexity72_25/.venv/lib/python3.12/site-packages/bertopic/_bertopic.py:3421\u001b[39m, in \u001b[36mBERTopic.load\u001b[39m\u001b[34m(cls, path, embedding_model)\u001b[39m\n\u001b[32m   3419\u001b[39m             topic_model.embedding_model = select_backend(embedding_model, verbose=topic_model.verbose)\n\u001b[32m   3420\u001b[39m         \u001b[38;5;28;01melse\u001b[39;00m:\n\u001b[32m-> \u001b[39m\u001b[32m3421\u001b[39m             topic_model = \u001b[43mjoblib\u001b[49m\u001b[43m.\u001b[49m\u001b[43mload\u001b[49m\u001b[43m(\u001b[49m\u001b[43mfile\u001b[49m\u001b[43m)\u001b[49m\n\u001b[32m   3422\u001b[39m         \u001b[38;5;28;01mreturn\u001b[39;00m topic_model\n\u001b[32m   3424\u001b[39m \u001b[38;5;66;03m# Load from directory or HF\u001b[39;00m\n",
      "\u001b[36mFile \u001b[39m\u001b[32m~/Documents/prog-projects/complexity72_25/.venv/lib/python3.12/site-packages/joblib/numpy_pickle.py:733\u001b[39m, in \u001b[36mload\u001b[39m\u001b[34m(filename, mmap_mode, ensure_native_byte_order)\u001b[39m\n\u001b[32m    731\u001b[39m     filename = \u001b[38;5;28mgetattr\u001b[39m(fobj, \u001b[33m\"\u001b[39m\u001b[33mname\u001b[39m\u001b[33m\"\u001b[39m, \u001b[33m\"\u001b[39m\u001b[33m\"\u001b[39m)\n\u001b[32m    732\u001b[39m     \u001b[38;5;28;01mwith\u001b[39;00m _validate_fileobject_and_memmap(fobj, filename, mmap_mode) \u001b[38;5;28;01mas\u001b[39;00m (fobj, _):\n\u001b[32m--> \u001b[39m\u001b[32m733\u001b[39m         obj = \u001b[43m_unpickle\u001b[49m\u001b[43m(\u001b[49m\u001b[43mfobj\u001b[49m\u001b[43m,\u001b[49m\u001b[43m \u001b[49m\u001b[43mensure_native_byte_order\u001b[49m\u001b[43m=\u001b[49m\u001b[43mensure_native_byte_order\u001b[49m\u001b[43m)\u001b[49m\n\u001b[32m    734\u001b[39m \u001b[38;5;28;01melse\u001b[39;00m:\n\u001b[32m    735\u001b[39m     \u001b[38;5;28;01mwith\u001b[39;00m \u001b[38;5;28mopen\u001b[39m(filename, \u001b[33m\"\u001b[39m\u001b[33mrb\u001b[39m\u001b[33m\"\u001b[39m) \u001b[38;5;28;01mas\u001b[39;00m f:\n",
      "\u001b[36mFile \u001b[39m\u001b[32m~/Documents/prog-projects/complexity72_25/.venv/lib/python3.12/site-packages/joblib/numpy_pickle.py:626\u001b[39m, in \u001b[36m_unpickle\u001b[39m\u001b[34m(fobj, ensure_native_byte_order, filename, mmap_mode)\u001b[39m\n\u001b[32m    624\u001b[39m obj = \u001b[38;5;28;01mNone\u001b[39;00m\n\u001b[32m    625\u001b[39m \u001b[38;5;28;01mtry\u001b[39;00m:\n\u001b[32m--> \u001b[39m\u001b[32m626\u001b[39m     obj = \u001b[43munpickler\u001b[49m\u001b[43m.\u001b[49m\u001b[43mload\u001b[49m\u001b[43m(\u001b[49m\u001b[43m)\u001b[49m\n\u001b[32m    627\u001b[39m     \u001b[38;5;28;01mif\u001b[39;00m unpickler.compat_mode:\n\u001b[32m    628\u001b[39m         warnings.warn(\n\u001b[32m    629\u001b[39m             \u001b[33m\"\u001b[39m\u001b[33mThe file \u001b[39m\u001b[33m'\u001b[39m\u001b[38;5;132;01m%s\u001b[39;00m\u001b[33m'\u001b[39m\u001b[33m has been generated with a \u001b[39m\u001b[33m\"\u001b[39m\n\u001b[32m    630\u001b[39m             \u001b[33m\"\u001b[39m\u001b[33mjoblib version less than 0.10. \u001b[39m\u001b[33m\"\u001b[39m\n\u001b[32m   (...)\u001b[39m\u001b[32m    633\u001b[39m             stacklevel=\u001b[32m3\u001b[39m,\n\u001b[32m    634\u001b[39m         )\n",
      "\u001b[36mFile \u001b[39m\u001b[32m/usr/lib/python3.12/pickle.py:1205\u001b[39m, in \u001b[36m_Unpickler.load\u001b[39m\u001b[34m(self)\u001b[39m\n\u001b[32m   1203\u001b[39m             \u001b[38;5;28;01mraise\u001b[39;00m \u001b[38;5;167;01mEOFError\u001b[39;00m\n\u001b[32m   1204\u001b[39m         \u001b[38;5;28;01massert\u001b[39;00m \u001b[38;5;28misinstance\u001b[39m(key, bytes_types)\n\u001b[32m-> \u001b[39m\u001b[32m1205\u001b[39m         \u001b[43mdispatch\u001b[49m\u001b[43m[\u001b[49m\u001b[43mkey\u001b[49m\u001b[43m[\u001b[49m\u001b[32;43m0\u001b[39;49m\u001b[43m]\u001b[49m\u001b[43m]\u001b[49m\u001b[43m(\u001b[49m\u001b[38;5;28;43mself\u001b[39;49m\u001b[43m)\u001b[49m\n\u001b[32m   1206\u001b[39m \u001b[38;5;28;01mexcept\u001b[39;00m _Stop \u001b[38;5;28;01mas\u001b[39;00m stopinst:\n\u001b[32m   1207\u001b[39m     \u001b[38;5;28;01mreturn\u001b[39;00m stopinst.value\n",
      "\u001b[36mFile \u001b[39m\u001b[32m/usr/lib/python3.12/pickle.py:1582\u001b[39m, in \u001b[36m_Unpickler.load_reduce\u001b[39m\u001b[34m(self)\u001b[39m\n\u001b[32m   1580\u001b[39m args = stack.pop()\n\u001b[32m   1581\u001b[39m func = stack[-\u001b[32m1\u001b[39m]\n\u001b[32m-> \u001b[39m\u001b[32m1582\u001b[39m stack[-\u001b[32m1\u001b[39m] = \u001b[43mfunc\u001b[49m\u001b[43m(\u001b[49m\u001b[43m*\u001b[49m\u001b[43margs\u001b[49m\u001b[43m)\u001b[49m\n",
      "\u001b[36mFile \u001b[39m\u001b[32m~/Documents/prog-projects/complexity72_25/.venv/lib/python3.12/site-packages/numba/core/serialize.py:110\u001b[39m, in \u001b[36m_unpickle__CustomPickled\u001b[39m\u001b[34m(serialized)\u001b[39m\n\u001b[32m    105\u001b[39m \u001b[38;5;28;01mdef\u001b[39;00m\u001b[38;5;250m \u001b[39m\u001b[34m_unpickle__CustomPickled\u001b[39m(serialized):\n\u001b[32m    106\u001b[39m \u001b[38;5;250m    \u001b[39m\u001b[33;03m\"\"\"standard unpickling for `_CustomPickled`.\u001b[39;00m\n\u001b[32m    107\u001b[39m \n\u001b[32m    108\u001b[39m \u001b[33;03m    Uses `NumbaPickler` to load.\u001b[39;00m\n\u001b[32m    109\u001b[39m \u001b[33;03m    \"\"\"\u001b[39;00m\n\u001b[32m--> \u001b[39m\u001b[32m110\u001b[39m     ctor, states = \u001b[43mloads\u001b[49m\u001b[43m(\u001b[49m\u001b[43mserialized\u001b[49m\u001b[43m)\u001b[49m\n\u001b[32m    111\u001b[39m     \u001b[38;5;28;01mreturn\u001b[39;00m _CustomPickled(ctor, states)\n",
      "\u001b[36mFile \u001b[39m\u001b[32m/home/aleg/miniconda3/envs/torch_env/lib/python3.11/site-packages/numba/core/serialize.py:102\u001b[39m, in \u001b[36m_rebuild\u001b[39m\u001b[34m(cls, ctor, states)\u001b[39m\n",
      "\u001b[31mValueError\u001b[39m: too many values to unpack (expected 2)"
     ]
    }
   ],
   "source": [
    "!pip install bertopic==0.17\n",
    "from bertopic import BERTopic\n",
    "model  = BERTopic.load(\"./../../models/cop26_tweets_en.parquet.topic_model\")"
   ]
  },
  {
   "cell_type": "code",
   "execution_count": null,
   "id": "ca1a853e",
   "metadata": {},
   "outputs": [
    {
     "name": "stderr",
     "output_type": "stream",
     "text": [
      "/home/arnaldo/Documents/prog-projects/complexity72_25/.venv/lib/python3.12/site-packages/tqdm/auto.py:21: TqdmWarning: IProgress not found. Please update jupyter and ipywidgets. See https://ipywidgets.readthedocs.io/en/stable/user_install.html\n",
      "  from .autonotebook import tqdm as notebook_tqdm\n"
     ]
    }
   ],
   "source": [
    "import numpy as np\n",
    "import pandas as pd\n",
    "from bertopic import BERTopic\n",
    "from sklearn.decomposition import PCA\n",
    "\n",
    "\n",
    "df = pd.read_parquet('./../../data/raw/covid_tweets_en.parquet')\n",
    "texts = df['text'].to_list()\n",
    "embeddings = np.load('./../../data/processed/covid_tweets_en.parquet.npy')\n",
    "\n",
    "dim_model = PCA(n_components=5)\n",
    "topic_model = BERTopic(umap_model=dim_model)"
   ]
  },
  {
   "cell_type": "code",
   "execution_count": null,
   "id": "5f98c51d",
   "metadata": {},
   "outputs": [],
   "source": []
  },
  {
   "cell_type": "code",
   "execution_count": 1,
   "id": "bcf9cc21",
   "metadata": {},
   "outputs": [
    {
     "ename": "NameError",
     "evalue": "name 'BERTopic' is not defined",
     "output_type": "error",
     "traceback": [
      "\u001b[31m---------------------------------------------------------------------------\u001b[39m",
      "\u001b[31mNameError\u001b[39m                                 Traceback (most recent call last)",
      "\u001b[36mCell\u001b[39m\u001b[36m \u001b[39m\u001b[32mIn[1]\u001b[39m\u001b[32m, line 1\u001b[39m\n\u001b[32m----> \u001b[39m\u001b[32m1\u001b[39m \u001b[43mBERTopic\u001b[49m.load(\u001b[33m\"\u001b[39m\u001b[33m./../../models/cop26_tweets_en.parquet.topic_model\u001b[39m\u001b[33m\"\u001b[39m, embedding_model=\u001b[38;5;28;01mNone\u001b[39;00m)\n",
      "\u001b[31mNameError\u001b[39m: name 'BERTopic' is not defined"
     ]
    }
   ],
   "source": [
    "BERTopic.load(\"./../../models/cop26_tweets_en.parquet.topic_model\", embedding_model=None)"
   ]
  },
  {
   "cell_type": "code",
   "execution_count": 5,
   "id": "115a7a7d",
   "metadata": {},
   "outputs": [
    {
     "name": "stdout",
     "output_type": "stream",
     "text": [
      "Collecting cloudpickle\n",
      "  Using cached cloudpickle-3.1.1-py3-none-any.whl.metadata (7.1 kB)\n",
      "Using cached cloudpickle-3.1.1-py3-none-any.whl (20 kB)\n",
      "Installing collected packages: cloudpickle\n",
      "Successfully installed cloudpickle-3.1.1\n"
     ]
    }
   ],
   "source": [
    "!pip install cloudpickle"
   ]
  },
  {
   "cell_type": "code",
   "execution_count": 6,
   "id": "71d94615",
   "metadata": {},
   "outputs": [
    {
     "ename": "UnpicklingError",
     "evalue": "invalid load key, '\\x08'.",
     "output_type": "error",
     "traceback": [
      "\u001b[31m---------------------------------------------------------------------------\u001b[39m",
      "\u001b[31mUnpicklingError\u001b[39m                           Traceback (most recent call last)",
      "\u001b[36mCell\u001b[39m\u001b[36m \u001b[39m\u001b[32mIn[6]\u001b[39m\u001b[32m, line 4\u001b[39m\n\u001b[32m      1\u001b[39m \u001b[38;5;28;01mimport\u001b[39;00m\u001b[38;5;250m \u001b[39m\u001b[34;01mcloudpickle\u001b[39;00m\n\u001b[32m      3\u001b[39m \u001b[38;5;28;01mwith\u001b[39;00m \u001b[38;5;28mopen\u001b[39m(\u001b[33m\"\u001b[39m\u001b[33m./../../models/cop26_tweets_en.parquet.topic_model\u001b[39m\u001b[33m\"\u001b[39m, \u001b[33m\"\u001b[39m\u001b[33mrb\u001b[39m\u001b[33m\"\u001b[39m) \u001b[38;5;28;01mas\u001b[39;00m f:\n\u001b[32m----> \u001b[39m\u001b[32m4\u001b[39m     topic_model = \u001b[43mcloudpickle\u001b[49m\u001b[43m.\u001b[49m\u001b[43mload\u001b[49m\u001b[43m(\u001b[49m\u001b[43mf\u001b[49m\u001b[43m)\u001b[49m\n",
      "\u001b[31mUnpicklingError\u001b[39m: invalid load key, '\\x08'."
     ]
    }
   ],
   "source": [
    "import cloudpickle\n",
    "\n",
    "with open(\"./../../models/cop26_tweets_en.parquet.topic_model\", \"rb\") as f:\n",
    "    topic_model = cloudpickle.load(f)\n"
   ]
  }
 ],
 "metadata": {
  "kernelspec": {
   "display_name": ".venv",
   "language": "python",
   "name": "python3"
  },
  "language_info": {
   "codemirror_mode": {
    "name": "ipython",
    "version": 3
   },
   "file_extension": ".py",
   "mimetype": "text/x-python",
   "name": "python",
   "nbconvert_exporter": "python",
   "pygments_lexer": "ipython3",
   "version": "3.12.3"
  }
 },
 "nbformat": 4,
 "nbformat_minor": 5
}
