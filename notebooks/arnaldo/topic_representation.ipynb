{
 "cells": [
  {
   "cell_type": "markdown",
   "id": "babbfe7a",
   "metadata": {},
   "source": [
    "# Topic representation and visualization\n",
    "Here I improve the base representation adding stopwords, and visualize topics in the produced models.\n",
    "\n",
    "This step was performed after training, to speed up the training process."
   ]
  },
  {
   "cell_type": "code",
   "execution_count": 1,
   "id": "549d0ca3",
   "metadata": {},
   "outputs": [],
   "source": [
    "import sys\n",
    "import os\n",
    "\n",
    "sys.path.append(\n",
    "    os.path.abspath(os.path.join(os.getcwd(), \"..\", \"..\"))\n",
    ")  # Adjust as needed\n",
    "sys.path.append(\n",
    "    os.path.abspath(os.path.join(os.getcwd(), \"..\", \"..\", \"scripts\"))\n",
    ")  # Adjust as needed\n",
    "import pandas as pd\n",
    "import numpy as np\n",
    "from scripts.my_text_cleaning import clean_dataframe\n",
    "from scripts.parallel_topic_model import deduplicate_text_and_embeddings\n",
    "import logging\n",
    "from bertopic import BERTopic\n",
    "from sklearn.feature_extraction.text import CountVectorizer\n",
    "from bertopic.representation import MaximalMarginalRelevance\n",
    "from nltk.corpus import stopwords\n",
    "\n",
    "import matplotlib.pyplot as plt\n",
    "# set global logging level to WARNING\n",
    "logging.getLogger().setLevel(logging.WARNING)"
   ]
  },
  {
   "cell_type": "code",
   "execution_count": 2,
   "id": "582ad369",
   "metadata": {},
   "outputs": [
    {
     "name": "stdout",
     "output_type": "stream",
     "text": [
      "len(cln_df)=607192\n",
      "len(unique_docs)=545032\n",
      "len(doc_info)=545032\n",
      "len(topic_info)=165\n"
     ]
    }
   ],
   "source": [
    "chosen_dataset = \"cop26_tweets_en\"\n",
    "chosen_dataset = \"ukraine_tweets_en\"\n",
    "chosen_dataset = \"covid_tweets_en\"\n",
    "ur_df = pd.read_parquet(\"./../../data/raw/\" + chosen_dataset + \".parquet\")\n",
    "doc_info = pd.read_csv(\n",
    "    \"./../../data/processed/document_info_\" + chosen_dataset + \".csv\"\n",
    ")[[\"Document\", \"Topic\", \"Representative_document\", \"Name\"]]\n",
    "topic_info = pd.read_csv(\n",
    "    \"./../../data/processed/topic_info_\" + chosen_dataset + \".csv\"\n",
    ")\n",
    "if \"Unnamed: 0\" in topic_info.columns:\n",
    "    topic_info.drop(columns=[\"Unnamed: 0\"], inplace=True)\n",
    "doc_info.Topic = doc_info.Topic.astype(int)\n",
    "embeddings = np.load(\"./../../data/processed/\" + chosen_dataset + \".parquet.npy\")\n",
    "cln_df = clean_dataframe(\n",
    "    ur_df, \n",
    "    'text',\n",
    "    phrases_to_remove=[\"&gt;\", \"&lt;\", \"&amp;\", \"RT : \"],\n",
    "    remove_empty=False,\n",
    "    remove_urls=True,\n",
    "    normalize_hashtags=True,\n",
    "    normalize_mentions=True,\n",
    "    user_placeholder=\"user\",\n",
    "    strip_punctuation=False,\n",
    "    lowercase=False,\n",
    "    )\n",
    "unique_docs, _ = deduplicate_text_and_embeddings(cln_df, None, 'Cleantext')\n",
    "topic_model = BERTopic.load(\n",
    "    \"./../../models/\" + chosen_dataset + \".parquet.topic_model\",\n",
    "    embedding_model=\"all-mpnet-base-v2\",\n",
    ")\n",
    "print(f\"{len(cln_df)=}\")\n",
    "print(f\"{len(unique_docs)=}\")\n",
    "print(f\"{len(doc_info)=}\")\n",
    "print(f\"{len(topic_info)=}\")"
   ]
  },
  {
   "cell_type": "markdown",
   "id": "3d595f84",
   "metadata": {},
   "source": [
    "Choosing the stopwords for representation, I choose english and spanish stopwords, html escapes, the mention replacement and the RT boilerplate text.\n",
    "Spanish was added to gain insights on the contents on the non-english topics found using bertopic, usually limited to one small topic, being the data in english.\n",
    "Moreover, dataset-specific words were chosen. Ideally the dataset-specific words should contain all hashtags and keywords used to download the data."
   ]
  },
  {
   "cell_type": "code",
   "execution_count": 3,
   "id": "51c474b1",
   "metadata": {},
   "outputs": [],
   "source": [
    "# Get English + Spanish stopwords\n",
    "stopwords_en = stopwords.words(\"english\")\n",
    "stopwords_es = stopwords.words(\"spanish\")\n",
    "data_specific_stopwords = []\n",
    "if chosen_dataset == \"covid_tweets_en\":\n",
    "    data_specific_stopwords = [\n",
    "        \"covid\",\n",
    "        \"covid19\",\n",
    "        \"coronavirus\",\n",
    "        #\"pandemic\",\n",
    "        #\"virus\",\n",
    "        #\"people\",\n",
    "        #\"get\",\n",
    "        #\"like\",\n",
    "        #\"one\",\n",
    "        #\"new\",\n",
    "        #\"cases\",\n",
    "        #\"health\",\n",
    "        #\"vaccine\",\n",
    "        #\"vaccines\",\n",
    "        #\"vaccinated\",\n",
    "        #\"deaths\",\n",
    "        #\"time\",\n",
    "        #\"year\",\n",
    "        #\"day\",\n",
    "        #\"years\",\n",
    "    ]\n",
    "elif chosen_dataset == \"ukraine_tweets_en\":\n",
    "    data_specific_stopwords = [\n",
    "        \"ukraine\",\n",
    "        \"russia\",\n",
    "        #\"war\",\n",
    "        #\"russian\",\n",
    "        #\"people\",\n",
    "        #\"like\",\n",
    "        #\"one\",\n",
    "        #\"get\",\n",
    "        #\"just\",\n",
    "        #\"know\",\n",
    "        #\"time\",\n",
    "        #\"day\",\n",
    "        #\"year\",\n",
    "        #\"years\",\n",
    "        #\"donbas\",\n",
    "        #\"ukrainian\",\n",
    "        #\"military\",\n",
    "        #\"ukrainians\",\n",
    "        #\"today\",\n",
    "    ]\n",
    "elif chosen_dataset == \"cop26_tweets_en\":\n",
    "    data_specific_stopwords = [\n",
    "        \"cop26\",\n",
    "        #\"climate\",\n",
    "        #\"people\",\n",
    "        #\"like\",\n",
    "        #\"one\",\n",
    "        #\"get\",\n",
    "        #\"just\",\n",
    "        #\"know\",\n",
    "        #\"time\",\n",
    "        #\"day\",\n",
    "        #\"year\",\n",
    "        #\"years\",\n",
    "        #\"action\",\n",
    "        #\"change\",\n",
    "        #\"global\",\n",
    "        #\"world\",\n",
    "        #\"new\",\n",
    "        #\"need\",\n",
    "    ]\n",
    "custom_stopwords = set(\n",
    "    stopwords_en + stopwords_es + [\"http\", \"https\", \"amp\", \"www\", \"com\"] + [\"user\", 'rt'] + data_specific_stopwords\n",
    ")"
   ]
  },
  {
   "cell_type": "markdown",
   "id": "1dadfb6a",
   "metadata": {},
   "source": [
    "To represent the topics, I choose two representation models, the base one and the Maxumum Marginal Relevance (MMR).\n",
    "\n",
    "MMR increases the likelyhood of picking words that are not repetitions (e.g. german, germany)."
   ]
  },
  {
   "cell_type": "code",
   "execution_count": 4,
   "id": "22d8dc9d",
   "metadata": {},
   "outputs": [
    {
     "name": "stderr",
     "output_type": "stream",
     "text": [
      "2025-09-19 14:58:39,534 - BERTopic - WARNING: Using a custom list of topic assignments may lead to errors if topic reduction techniques are used afterwards. Make sure that manually assigning topics is the last step in the pipeline.Note that topic embeddings will also be created through weightedc-TF-IDF embeddings instead of centroid embeddings.\n"
     ]
    }
   ],
   "source": [
    "docs_clean = doc_info.Document.tolist()\n",
    "topics = (doc_info.Topic.tolist())\n",
    "vectorizer_model = CountVectorizer(stop_words=list(custom_stopwords))\n",
    "\n",
    "representation_models = {\n",
    "    \"MMR\": MaximalMarginalRelevance(diversity=0.7)\n",
    "}\n",
    "\n",
    "topic_model.update_topics(\n",
    "    docs=docs_clean, topics=topics, vectorizer_model=vectorizer_model, representation_model=representation_models\n",
    ")\n"
   ]
  },
  {
   "cell_type": "code",
   "execution_count": 5,
   "id": "7f454e94",
   "metadata": {},
   "outputs": [],
   "source": [
    "new_topic_info = topic_model.get_topic_info()\n",
    "new_topic_info['New_Name'] = new_topic_info.apply(\n",
    "    lambda row: str(row['Topic']) + \"_\" + \"_\".join(row['Representation']),\n",
    "    axis=1\n",
    ")\n",
    "new_topic_info['New_Name_MMR'] = new_topic_info.apply(\n",
    "    lambda row: str(row['Topic']) + \"_\" + \"_\".join(row['MMR']),\n",
    "    axis=1\n",
    ")\n",
    "\n",
    "merged_topic_info = topic_info.drop(columns=[\"Representation\"]).merge(\n",
    "    new_topic_info[[\"Topic\", 'MMR', \"New_Name\", \"Representation\", \"New_Name_MMR\"]], on=\"Topic\", suffixes=(\"_old\", \"_new\")\n",
    ")\n",
    "\n",
    "#merged_topic_info.to_csv(\n",
    "#    \"./../../data/processed/topic_info_\" + chosen_dataset + \"_with_MMR.csv\", index=False\n",
    "#)"
   ]
  },
  {
   "cell_type": "markdown",
   "id": "ca244264",
   "metadata": {},
   "source": [
    "## Visualize Topics"
   ]
  },
  {
   "cell_type": "code",
   "execution_count": 6,
   "id": "5b025ccd",
   "metadata": {},
   "outputs": [
    {
     "data": {
      "application/vnd.plotly.v1+json": {
       "config": {
        "plotlyServerURL": "https://plot.ly"
       },
       "data": [
        {
         "marker": {
          "color": "#1f77b4"
         },
         "orientation": "h",
         "type": "bar",
         "x": [
          0.007992426846643507,
          0.008136215432232212,
          0.008819768152442871,
          0.010959547844922491,
          0.011273771337140795
         ],
         "xaxis": "x",
         "y": [
          "boris  ",
          "virus  ",
          "deaths  ",
          "lockdown  ",
          "cases  "
         ],
         "yaxis": "y"
        },
        {
         "marker": {
          "color": "#aec7e8"
         },
         "orientation": "h",
         "type": "bar",
         "x": [
          0.00792535631575853,
          0.009995330136930679,
          0.0127932124909707,
          0.01326946231432607,
          0.014493586201222788
         ],
         "xaxis": "x2",
         "y": [
          "2nd  ",
          "second  ",
          "pfizer  ",
          "doses  ",
          "dose  "
         ],
         "yaxis": "y2"
        },
        {
         "marker": {
          "color": "#ff7f0e"
         },
         "orientation": "h",
         "type": "bar",
         "x": [
          0.015918413793608418,
          0.018762678657625126,
          0.020629905774269312,
          0.021536371350400194,
          0.04693382258393014
         ],
         "xaxis": "x3",
         "y": [
          "canadians  ",
          "cdnpoli  ",
          "trudeau  ",
          "ontario  ",
          "canada  "
         ],
         "yaxis": "y3"
        },
        {
         "marker": {
          "color": "#ffbb78"
         },
         "orientation": "h",
         "type": "bar",
         "x": [
          0.012623718945359613,
          0.014141476438021343,
          0.015960586151714282,
          0.017762203223469268,
          0.03832235453772409
         ],
         "xaxis": "x4",
         "y": [
          "boris  ",
          "first  ",
          "nhs  ",
          "britain  ",
          "uk  "
         ],
         "yaxis": "y4"
        },
        {
         "marker": {
          "color": "#2ca02c"
         },
         "orientation": "h",
         "type": "bar",
         "x": [
          0.017446728979785,
          0.027564351160424116,
          0.04059846135880997,
          0.07253413476713763,
          0.08742952976150525
         ],
         "xaxis": "x5",
         "y": [
          "putin  ",
          "sputnikv  ",
          "russian  ",
          "russia  ",
          "sputnik  "
         ],
         "yaxis": "y5"
        },
        {
         "marker": {
          "color": "#98df8a"
         },
         "orientation": "h",
         "type": "bar",
         "x": [
          0.019605010693329206,
          0.023520074109880676,
          0.024773938271555634,
          0.0302678270817096,
          0.03828164797174489
         ],
         "xaxis": "x6",
         "y": [
          "joe  ",
          "president  ",
          "election  ",
          "biden  ",
          "trump  "
         ],
         "yaxis": "y6"
        },
        {
         "marker": {
          "color": "#d62728"
         },
         "orientation": "h",
         "type": "bar",
         "x": [
          0.017775667208003214,
          0.018402232635719697,
          0.019278714932934735,
          0.026498166109298046,
          0.051682814004765404
         ],
         "xaxis": "x7",
         "y": [
          "bharat  ",
          "rs  ",
          "serum  ",
          "covaxin  ",
          "india  "
         ],
         "yaxis": "y7"
        },
        {
         "marker": {
          "color": "#ff9896"
         },
         "orientation": "h",
         "type": "bar",
         "x": [
          0.029948049231901353,
          0.04256376167234996,
          0.044606295879935566,
          0.07552469967078397,
          0.08947422472653703
         ],
         "xaxis": "x8",
         "y": [
          "clotting  ",
          "rare  ",
          "clot  ",
          "clots  ",
          "blood  "
         ],
         "yaxis": "y8"
        },
        {
         "marker": {
          "color": "#9467bd"
         },
         "orientation": "h",
         "type": "bar",
         "x": [
          0.006847748596296024,
          0.007623708277344183,
          0.01128287509799698,
          0.01887024039292686,
          0.10073841822679697
         ],
         "xaxis": "x9",
         "y": [
          "need  ",
          "kids  ",
          "anti  ",
          "c19  ",
          "vax  "
         ],
         "yaxis": "y9"
        },
        {
         "marker": {
          "color": "#c5b0d5"
         },
         "orientation": "h",
         "type": "bar",
         "x": [
          0.029836325150339623,
          0.04392518859454767,
          0.05271617446195183,
          0.05731282141867924,
          0.07349972949304233
         ],
         "xaxis": "x10",
         "y": [
          "panel  ",
          "use  ",
          "authorization  ",
          "fda  ",
          "emergency  "
         ],
         "yaxis": "y10"
        },
        {
         "marker": {
          "color": "#8c564b"
         },
         "orientation": "h",
         "type": "bar",
         "x": [
          0.017413733998003094,
          0.018059797753885654,
          0.018447635869275916,
          0.021311185564871753,
          0.03570867502732908
         ],
         "xaxis": "x11",
         "y": [
          "ford  ",
          "cases  ",
          "canada  ",
          "trudeau  ",
          "ontario  "
         ],
         "yaxis": "y11"
        },
        {
         "marker": {
          "color": "#c49c94"
         },
         "orientation": "h",
         "type": "bar",
         "x": [
          0.022190314380663358,
          0.027599052818218225,
          0.029286175888563085,
          0.04494419073840925,
          0.045392486230912216
         ],
         "xaxis": "x12",
         "y": [
          "market  ",
          "dow  ",
          "shares  ",
          "stock  ",
          "stocks  "
         ],
         "yaxis": "y12"
        },
        {
         "marker": {
          "color": "#e377c2"
         },
         "orientation": "h",
         "type": "bar",
         "x": [
          0.022600235040229837,
          0.04584993599528761,
          0.049848101218004266,
          0.08227358367380544,
          0.08963755495564261
         ],
         "xaxis": "x13",
         "y": [
          "face  ",
          "wearing  ",
          "wear  ",
          "masks  ",
          "mask  "
         ],
         "yaxis": "y13"
        },
        {
         "marker": {
          "color": "#f7b6d2"
         },
         "orientation": "h",
         "type": "bar",
         "x": [
          0.01454338893255523,
          0.01707930520917839,
          0.022524439214072524,
          0.023725429475043865,
          0.033621258731197784
         ],
         "xaxis": "x14",
         "y": [
          "gandhi  ",
          "modi  ",
          "bjp  ",
          "india  ",
          "hindu  "
         ],
         "yaxis": "y14"
        },
        {
         "marker": {
          "color": "#7f7f7f"
         },
         "orientation": "h",
         "type": "bar",
         "x": [
          0.013896892443277829,
          0.013997214718149936,
          0.020345270711963886,
          0.025853171132865286,
          0.028453301572073122
         ],
         "xaxis": "x15",
         "y": [
          "know  ",
          "dey  ",
          "yes  ",
          "thanks  ",
          "thank  "
         ],
         "yaxis": "y15"
        },
        {
         "marker": {
          "color": "#c7c7c7"
         },
         "orientation": "h",
         "type": "bar",
         "x": [
          0.019470028802920532,
          0.023272872170443763,
          0.02365570056244661,
          0.024444793235337818,
          0.08543732246350334
         ],
         "xaxis": "x16",
         "y": [
          "european  ",
          "uk  ",
          "export  ",
          "exports  ",
          "eu  "
         ],
         "yaxis": "y16"
        },
        {
         "marker": {
          "color": "#bcbd22"
         },
         "orientation": "h",
         "type": "bar",
         "x": [
          0.030157687799062537,
          0.031692535773036615,
          0.045903775700389116,
          0.04984286533279249,
          0.05913541227116097
         ],
         "xaxis": "x17",
         "y": [
          "chauvin  ",
          "black  ",
          "george  ",
          "police  ",
          "floyd  "
         ],
         "yaxis": "y17"
        },
        {
         "marker": {
          "color": "#dbdb8d"
         },
         "orientation": "h",
         "type": "bar",
         "x": [
          0.01521456969307664,
          0.019578536298283402,
          0.02465823157127982,
          0.037647986624829495,
          0.1290028079266266
         ],
         "xaxis": "x18",
         "y": [
          "population  ",
          "netanyahu  ",
          "israelis  ",
          "israeli  ",
          "israel  "
         ],
         "yaxis": "y18"
        },
        {
         "marker": {
          "color": "#17becf"
         },
         "orientation": "h",
         "type": "bar",
         "x": [
          0.017579598601508893,
          0.017891271561100135,
          0.018594444502436473,
          0.024617223829385408,
          0.026470262352550764
         ],
         "xaxis": "x19",
         "y": [
          "wow  ",
          "well  ",
          "news  ",
          "good  ",
          "oh  "
         ],
         "yaxis": "y19"
        },
        {
         "marker": {
          "color": "#9edae5"
         },
         "orientation": "h",
         "type": "bar",
         "x": [
          0.016608770167081028,
          0.01663022946670708,
          0.01689936228948322,
          0.031741610479629194,
          0.04985931935570909
         ],
         "xaxis": "x20",
         "y": [
          "white  ",
          "biden  ",
          "positive  ",
          "president  ",
          "trump  "
         ],
         "yaxis": "y20"
        }
       ],
       "layout": {
        "annotations": [
         {
          "font": {
           "size": 16
          },
          "showarrow": false,
          "text": "Topic 0",
          "x": 0.0875,
          "xanchor": "center",
          "xref": "paper",
          "y": 0.9999999999999999,
          "yanchor": "bottom",
          "yref": "paper"
         },
         {
          "font": {
           "size": 16
          },
          "showarrow": false,
          "text": "Topic 1",
          "x": 0.36250000000000004,
          "xanchor": "center",
          "xref": "paper",
          "y": 0.9999999999999999,
          "yanchor": "bottom",
          "yref": "paper"
         },
         {
          "font": {
           "size": 16
          },
          "showarrow": false,
          "text": "Topic 2",
          "x": 0.6375000000000001,
          "xanchor": "center",
          "xref": "paper",
          "y": 0.9999999999999999,
          "yanchor": "bottom",
          "yref": "paper"
         },
         {
          "font": {
           "size": 16
          },
          "showarrow": false,
          "text": "Topic 3",
          "x": 0.9125,
          "xanchor": "center",
          "xref": "paper",
          "y": 0.9999999999999999,
          "yanchor": "bottom",
          "yref": "paper"
         },
         {
          "font": {
           "size": 16
          },
          "showarrow": false,
          "text": "Topic 4",
          "x": 0.0875,
          "xanchor": "center",
          "xref": "paper",
          "y": 0.7839999999999999,
          "yanchor": "bottom",
          "yref": "paper"
         },
         {
          "font": {
           "size": 16
          },
          "showarrow": false,
          "text": "Topic 5",
          "x": 0.36250000000000004,
          "xanchor": "center",
          "xref": "paper",
          "y": 0.7839999999999999,
          "yanchor": "bottom",
          "yref": "paper"
         },
         {
          "font": {
           "size": 16
          },
          "showarrow": false,
          "text": "Topic 6",
          "x": 0.6375000000000001,
          "xanchor": "center",
          "xref": "paper",
          "y": 0.7839999999999999,
          "yanchor": "bottom",
          "yref": "paper"
         },
         {
          "font": {
           "size": 16
          },
          "showarrow": false,
          "text": "Topic 7",
          "x": 0.9125,
          "xanchor": "center",
          "xref": "paper",
          "y": 0.7839999999999999,
          "yanchor": "bottom",
          "yref": "paper"
         },
         {
          "font": {
           "size": 16
          },
          "showarrow": false,
          "text": "Topic 8",
          "x": 0.0875,
          "xanchor": "center",
          "xref": "paper",
          "y": 0.568,
          "yanchor": "bottom",
          "yref": "paper"
         },
         {
          "font": {
           "size": 16
          },
          "showarrow": false,
          "text": "Topic 9",
          "x": 0.36250000000000004,
          "xanchor": "center",
          "xref": "paper",
          "y": 0.568,
          "yanchor": "bottom",
          "yref": "paper"
         },
         {
          "font": {
           "size": 16
          },
          "showarrow": false,
          "text": "Topic 10",
          "x": 0.6375000000000001,
          "xanchor": "center",
          "xref": "paper",
          "y": 0.568,
          "yanchor": "bottom",
          "yref": "paper"
         },
         {
          "font": {
           "size": 16
          },
          "showarrow": false,
          "text": "Topic 11",
          "x": 0.9125,
          "xanchor": "center",
          "xref": "paper",
          "y": 0.568,
          "yanchor": "bottom",
          "yref": "paper"
         },
         {
          "font": {
           "size": 16
          },
          "showarrow": false,
          "text": "Topic 12",
          "x": 0.0875,
          "xanchor": "center",
          "xref": "paper",
          "y": 0.352,
          "yanchor": "bottom",
          "yref": "paper"
         },
         {
          "font": {
           "size": 16
          },
          "showarrow": false,
          "text": "Topic 13",
          "x": 0.36250000000000004,
          "xanchor": "center",
          "xref": "paper",
          "y": 0.352,
          "yanchor": "bottom",
          "yref": "paper"
         },
         {
          "font": {
           "size": 16
          },
          "showarrow": false,
          "text": "Topic 14",
          "x": 0.6375000000000001,
          "xanchor": "center",
          "xref": "paper",
          "y": 0.352,
          "yanchor": "bottom",
          "yref": "paper"
         },
         {
          "font": {
           "size": 16
          },
          "showarrow": false,
          "text": "Topic 15",
          "x": 0.9125,
          "xanchor": "center",
          "xref": "paper",
          "y": 0.352,
          "yanchor": "bottom",
          "yref": "paper"
         },
         {
          "font": {
           "size": 16
          },
          "showarrow": false,
          "text": "Topic 16",
          "x": 0.0875,
          "xanchor": "center",
          "xref": "paper",
          "y": 0.13599999999999998,
          "yanchor": "bottom",
          "yref": "paper"
         },
         {
          "font": {
           "size": 16
          },
          "showarrow": false,
          "text": "Topic 17",
          "x": 0.36250000000000004,
          "xanchor": "center",
          "xref": "paper",
          "y": 0.13599999999999998,
          "yanchor": "bottom",
          "yref": "paper"
         },
         {
          "font": {
           "size": 16
          },
          "showarrow": false,
          "text": "Topic 18",
          "x": 0.6375000000000001,
          "xanchor": "center",
          "xref": "paper",
          "y": 0.13599999999999998,
          "yanchor": "bottom",
          "yref": "paper"
         },
         {
          "font": {
           "size": 16
          },
          "showarrow": false,
          "text": "Topic 19",
          "x": 0.9125,
          "xanchor": "center",
          "xref": "paper",
          "y": 0.13599999999999998,
          "yanchor": "bottom",
          "yref": "paper"
         }
        ],
        "height": 1250,
        "hoverlabel": {
         "bgcolor": "white",
         "font": {
          "family": "Rockwell",
          "size": 16
         }
        },
        "showlegend": false,
        "template": {
         "data": {
          "bar": [
           {
            "error_x": {
             "color": "#2a3f5f"
            },
            "error_y": {
             "color": "#2a3f5f"
            },
            "marker": {
             "line": {
              "color": "white",
              "width": 0.5
             },
             "pattern": {
              "fillmode": "overlay",
              "size": 10,
              "solidity": 0.2
             }
            },
            "type": "bar"
           }
          ],
          "barpolar": [
           {
            "marker": {
             "line": {
              "color": "white",
              "width": 0.5
             },
             "pattern": {
              "fillmode": "overlay",
              "size": 10,
              "solidity": 0.2
             }
            },
            "type": "barpolar"
           }
          ],
          "carpet": [
           {
            "aaxis": {
             "endlinecolor": "#2a3f5f",
             "gridcolor": "#C8D4E3",
             "linecolor": "#C8D4E3",
             "minorgridcolor": "#C8D4E3",
             "startlinecolor": "#2a3f5f"
            },
            "baxis": {
             "endlinecolor": "#2a3f5f",
             "gridcolor": "#C8D4E3",
             "linecolor": "#C8D4E3",
             "minorgridcolor": "#C8D4E3",
             "startlinecolor": "#2a3f5f"
            },
            "type": "carpet"
           }
          ],
          "choropleth": [
           {
            "colorbar": {
             "outlinewidth": 0,
             "ticks": ""
            },
            "type": "choropleth"
           }
          ],
          "contour": [
           {
            "colorbar": {
             "outlinewidth": 0,
             "ticks": ""
            },
            "colorscale": [
             [
              0,
              "#0d0887"
             ],
             [
              0.1111111111111111,
              "#46039f"
             ],
             [
              0.2222222222222222,
              "#7201a8"
             ],
             [
              0.3333333333333333,
              "#9c179e"
             ],
             [
              0.4444444444444444,
              "#bd3786"
             ],
             [
              0.5555555555555556,
              "#d8576b"
             ],
             [
              0.6666666666666666,
              "#ed7953"
             ],
             [
              0.7777777777777778,
              "#fb9f3a"
             ],
             [
              0.8888888888888888,
              "#fdca26"
             ],
             [
              1,
              "#f0f921"
             ]
            ],
            "type": "contour"
           }
          ],
          "contourcarpet": [
           {
            "colorbar": {
             "outlinewidth": 0,
             "ticks": ""
            },
            "type": "contourcarpet"
           }
          ],
          "heatmap": [
           {
            "colorbar": {
             "outlinewidth": 0,
             "ticks": ""
            },
            "colorscale": [
             [
              0,
              "#0d0887"
             ],
             [
              0.1111111111111111,
              "#46039f"
             ],
             [
              0.2222222222222222,
              "#7201a8"
             ],
             [
              0.3333333333333333,
              "#9c179e"
             ],
             [
              0.4444444444444444,
              "#bd3786"
             ],
             [
              0.5555555555555556,
              "#d8576b"
             ],
             [
              0.6666666666666666,
              "#ed7953"
             ],
             [
              0.7777777777777778,
              "#fb9f3a"
             ],
             [
              0.8888888888888888,
              "#fdca26"
             ],
             [
              1,
              "#f0f921"
             ]
            ],
            "type": "heatmap"
           }
          ],
          "histogram": [
           {
            "marker": {
             "pattern": {
              "fillmode": "overlay",
              "size": 10,
              "solidity": 0.2
             }
            },
            "type": "histogram"
           }
          ],
          "histogram2d": [
           {
            "colorbar": {
             "outlinewidth": 0,
             "ticks": ""
            },
            "colorscale": [
             [
              0,
              "#0d0887"
             ],
             [
              0.1111111111111111,
              "#46039f"
             ],
             [
              0.2222222222222222,
              "#7201a8"
             ],
             [
              0.3333333333333333,
              "#9c179e"
             ],
             [
              0.4444444444444444,
              "#bd3786"
             ],
             [
              0.5555555555555556,
              "#d8576b"
             ],
             [
              0.6666666666666666,
              "#ed7953"
             ],
             [
              0.7777777777777778,
              "#fb9f3a"
             ],
             [
              0.8888888888888888,
              "#fdca26"
             ],
             [
              1,
              "#f0f921"
             ]
            ],
            "type": "histogram2d"
           }
          ],
          "histogram2dcontour": [
           {
            "colorbar": {
             "outlinewidth": 0,
             "ticks": ""
            },
            "colorscale": [
             [
              0,
              "#0d0887"
             ],
             [
              0.1111111111111111,
              "#46039f"
             ],
             [
              0.2222222222222222,
              "#7201a8"
             ],
             [
              0.3333333333333333,
              "#9c179e"
             ],
             [
              0.4444444444444444,
              "#bd3786"
             ],
             [
              0.5555555555555556,
              "#d8576b"
             ],
             [
              0.6666666666666666,
              "#ed7953"
             ],
             [
              0.7777777777777778,
              "#fb9f3a"
             ],
             [
              0.8888888888888888,
              "#fdca26"
             ],
             [
              1,
              "#f0f921"
             ]
            ],
            "type": "histogram2dcontour"
           }
          ],
          "mesh3d": [
           {
            "colorbar": {
             "outlinewidth": 0,
             "ticks": ""
            },
            "type": "mesh3d"
           }
          ],
          "parcoords": [
           {
            "line": {
             "colorbar": {
              "outlinewidth": 0,
              "ticks": ""
             }
            },
            "type": "parcoords"
           }
          ],
          "pie": [
           {
            "automargin": true,
            "type": "pie"
           }
          ],
          "scatter": [
           {
            "fillpattern": {
             "fillmode": "overlay",
             "size": 10,
             "solidity": 0.2
            },
            "type": "scatter"
           }
          ],
          "scatter3d": [
           {
            "line": {
             "colorbar": {
              "outlinewidth": 0,
              "ticks": ""
             }
            },
            "marker": {
             "colorbar": {
              "outlinewidth": 0,
              "ticks": ""
             }
            },
            "type": "scatter3d"
           }
          ],
          "scattercarpet": [
           {
            "marker": {
             "colorbar": {
              "outlinewidth": 0,
              "ticks": ""
             }
            },
            "type": "scattercarpet"
           }
          ],
          "scattergeo": [
           {
            "marker": {
             "colorbar": {
              "outlinewidth": 0,
              "ticks": ""
             }
            },
            "type": "scattergeo"
           }
          ],
          "scattergl": [
           {
            "marker": {
             "colorbar": {
              "outlinewidth": 0,
              "ticks": ""
             }
            },
            "type": "scattergl"
           }
          ],
          "scattermap": [
           {
            "marker": {
             "colorbar": {
              "outlinewidth": 0,
              "ticks": ""
             }
            },
            "type": "scattermap"
           }
          ],
          "scattermapbox": [
           {
            "marker": {
             "colorbar": {
              "outlinewidth": 0,
              "ticks": ""
             }
            },
            "type": "scattermapbox"
           }
          ],
          "scatterpolar": [
           {
            "marker": {
             "colorbar": {
              "outlinewidth": 0,
              "ticks": ""
             }
            },
            "type": "scatterpolar"
           }
          ],
          "scatterpolargl": [
           {
            "marker": {
             "colorbar": {
              "outlinewidth": 0,
              "ticks": ""
             }
            },
            "type": "scatterpolargl"
           }
          ],
          "scatterternary": [
           {
            "marker": {
             "colorbar": {
              "outlinewidth": 0,
              "ticks": ""
             }
            },
            "type": "scatterternary"
           }
          ],
          "surface": [
           {
            "colorbar": {
             "outlinewidth": 0,
             "ticks": ""
            },
            "colorscale": [
             [
              0,
              "#0d0887"
             ],
             [
              0.1111111111111111,
              "#46039f"
             ],
             [
              0.2222222222222222,
              "#7201a8"
             ],
             [
              0.3333333333333333,
              "#9c179e"
             ],
             [
              0.4444444444444444,
              "#bd3786"
             ],
             [
              0.5555555555555556,
              "#d8576b"
             ],
             [
              0.6666666666666666,
              "#ed7953"
             ],
             [
              0.7777777777777778,
              "#fb9f3a"
             ],
             [
              0.8888888888888888,
              "#fdca26"
             ],
             [
              1,
              "#f0f921"
             ]
            ],
            "type": "surface"
           }
          ],
          "table": [
           {
            "cells": {
             "fill": {
              "color": "#EBF0F8"
             },
             "line": {
              "color": "white"
             }
            },
            "header": {
             "fill": {
              "color": "#C8D4E3"
             },
             "line": {
              "color": "white"
             }
            },
            "type": "table"
           }
          ]
         },
         "layout": {
          "annotationdefaults": {
           "arrowcolor": "#2a3f5f",
           "arrowhead": 0,
           "arrowwidth": 1
          },
          "autotypenumbers": "strict",
          "coloraxis": {
           "colorbar": {
            "outlinewidth": 0,
            "ticks": ""
           }
          },
          "colorscale": {
           "diverging": [
            [
             0,
             "#8e0152"
            ],
            [
             0.1,
             "#c51b7d"
            ],
            [
             0.2,
             "#de77ae"
            ],
            [
             0.3,
             "#f1b6da"
            ],
            [
             0.4,
             "#fde0ef"
            ],
            [
             0.5,
             "#f7f7f7"
            ],
            [
             0.6,
             "#e6f5d0"
            ],
            [
             0.7,
             "#b8e186"
            ],
            [
             0.8,
             "#7fbc41"
            ],
            [
             0.9,
             "#4d9221"
            ],
            [
             1,
             "#276419"
            ]
           ],
           "sequential": [
            [
             0,
             "#0d0887"
            ],
            [
             0.1111111111111111,
             "#46039f"
            ],
            [
             0.2222222222222222,
             "#7201a8"
            ],
            [
             0.3333333333333333,
             "#9c179e"
            ],
            [
             0.4444444444444444,
             "#bd3786"
            ],
            [
             0.5555555555555556,
             "#d8576b"
            ],
            [
             0.6666666666666666,
             "#ed7953"
            ],
            [
             0.7777777777777778,
             "#fb9f3a"
            ],
            [
             0.8888888888888888,
             "#fdca26"
            ],
            [
             1,
             "#f0f921"
            ]
           ],
           "sequentialminus": [
            [
             0,
             "#0d0887"
            ],
            [
             0.1111111111111111,
             "#46039f"
            ],
            [
             0.2222222222222222,
             "#7201a8"
            ],
            [
             0.3333333333333333,
             "#9c179e"
            ],
            [
             0.4444444444444444,
             "#bd3786"
            ],
            [
             0.5555555555555556,
             "#d8576b"
            ],
            [
             0.6666666666666666,
             "#ed7953"
            ],
            [
             0.7777777777777778,
             "#fb9f3a"
            ],
            [
             0.8888888888888888,
             "#fdca26"
            ],
            [
             1,
             "#f0f921"
            ]
           ]
          },
          "colorway": [
           "#636efa",
           "#EF553B",
           "#00cc96",
           "#ab63fa",
           "#FFA15A",
           "#19d3f3",
           "#FF6692",
           "#B6E880",
           "#FF97FF",
           "#FECB52"
          ],
          "font": {
           "color": "#2a3f5f"
          },
          "geo": {
           "bgcolor": "white",
           "lakecolor": "white",
           "landcolor": "white",
           "showlakes": true,
           "showland": true,
           "subunitcolor": "#C8D4E3"
          },
          "hoverlabel": {
           "align": "left"
          },
          "hovermode": "closest",
          "mapbox": {
           "style": "light"
          },
          "paper_bgcolor": "white",
          "plot_bgcolor": "white",
          "polar": {
           "angularaxis": {
            "gridcolor": "#EBF0F8",
            "linecolor": "#EBF0F8",
            "ticks": ""
           },
           "bgcolor": "white",
           "radialaxis": {
            "gridcolor": "#EBF0F8",
            "linecolor": "#EBF0F8",
            "ticks": ""
           }
          },
          "scene": {
           "xaxis": {
            "backgroundcolor": "white",
            "gridcolor": "#DFE8F3",
            "gridwidth": 2,
            "linecolor": "#EBF0F8",
            "showbackground": true,
            "ticks": "",
            "zerolinecolor": "#EBF0F8"
           },
           "yaxis": {
            "backgroundcolor": "white",
            "gridcolor": "#DFE8F3",
            "gridwidth": 2,
            "linecolor": "#EBF0F8",
            "showbackground": true,
            "ticks": "",
            "zerolinecolor": "#EBF0F8"
           },
           "zaxis": {
            "backgroundcolor": "white",
            "gridcolor": "#DFE8F3",
            "gridwidth": 2,
            "linecolor": "#EBF0F8",
            "showbackground": true,
            "ticks": "",
            "zerolinecolor": "#EBF0F8"
           }
          },
          "shapedefaults": {
           "line": {
            "color": "#2a3f5f"
           }
          },
          "ternary": {
           "aaxis": {
            "gridcolor": "#DFE8F3",
            "linecolor": "#A2B1C6",
            "ticks": ""
           },
           "baxis": {
            "gridcolor": "#DFE8F3",
            "linecolor": "#A2B1C6",
            "ticks": ""
           },
           "bgcolor": "white",
           "caxis": {
            "gridcolor": "#DFE8F3",
            "linecolor": "#A2B1C6",
            "ticks": ""
           }
          },
          "title": {
           "x": 0.05
          },
          "xaxis": {
           "automargin": true,
           "gridcolor": "#EBF0F8",
           "linecolor": "#EBF0F8",
           "ticks": "",
           "title": {
            "standoff": 15
           },
           "zerolinecolor": "#EBF0F8",
           "zerolinewidth": 2
          },
          "yaxis": {
           "automargin": true,
           "gridcolor": "#EBF0F8",
           "linecolor": "#EBF0F8",
           "ticks": "",
           "title": {
            "standoff": 15
           },
           "zerolinecolor": "#EBF0F8",
           "zerolinewidth": 2
          }
         }
        },
        "title": {
         "font": {
          "color": "Black",
          "size": 22
         },
         "text": "Top 20 topics",
         "x": 0.5,
         "xanchor": "center",
         "yanchor": "top"
        },
        "width": 1000,
        "xaxis": {
         "anchor": "y",
         "domain": [
          0,
          0.175
         ],
         "showgrid": true
        },
        "xaxis10": {
         "anchor": "y10",
         "domain": [
          0.275,
          0.45
         ],
         "showgrid": true
        },
        "xaxis11": {
         "anchor": "y11",
         "domain": [
          0.55,
          0.7250000000000001
         ],
         "showgrid": true
        },
        "xaxis12": {
         "anchor": "y12",
         "domain": [
          0.825,
          1
         ],
         "showgrid": true
        },
        "xaxis13": {
         "anchor": "y13",
         "domain": [
          0,
          0.175
         ],
         "showgrid": true
        },
        "xaxis14": {
         "anchor": "y14",
         "domain": [
          0.275,
          0.45
         ],
         "showgrid": true
        },
        "xaxis15": {
         "anchor": "y15",
         "domain": [
          0.55,
          0.7250000000000001
         ],
         "showgrid": true
        },
        "xaxis16": {
         "anchor": "y16",
         "domain": [
          0.825,
          1
         ],
         "showgrid": true
        },
        "xaxis17": {
         "anchor": "y17",
         "domain": [
          0,
          0.175
         ],
         "showgrid": true
        },
        "xaxis18": {
         "anchor": "y18",
         "domain": [
          0.275,
          0.45
         ],
         "showgrid": true
        },
        "xaxis19": {
         "anchor": "y19",
         "domain": [
          0.55,
          0.7250000000000001
         ],
         "showgrid": true
        },
        "xaxis2": {
         "anchor": "y2",
         "domain": [
          0.275,
          0.45
         ],
         "showgrid": true
        },
        "xaxis20": {
         "anchor": "y20",
         "domain": [
          0.825,
          1
         ],
         "showgrid": true
        },
        "xaxis3": {
         "anchor": "y3",
         "domain": [
          0.55,
          0.7250000000000001
         ],
         "showgrid": true
        },
        "xaxis4": {
         "anchor": "y4",
         "domain": [
          0.825,
          1
         ],
         "showgrid": true
        },
        "xaxis5": {
         "anchor": "y5",
         "domain": [
          0,
          0.175
         ],
         "showgrid": true
        },
        "xaxis6": {
         "anchor": "y6",
         "domain": [
          0.275,
          0.45
         ],
         "showgrid": true
        },
        "xaxis7": {
         "anchor": "y7",
         "domain": [
          0.55,
          0.7250000000000001
         ],
         "showgrid": true
        },
        "xaxis8": {
         "anchor": "y8",
         "domain": [
          0.825,
          1
         ],
         "showgrid": true
        },
        "xaxis9": {
         "anchor": "y9",
         "domain": [
          0,
          0.175
         ],
         "showgrid": true
        },
        "yaxis": {
         "anchor": "x",
         "domain": [
          0.8639999999999999,
          0.9999999999999999
         ],
         "showgrid": true
        },
        "yaxis10": {
         "anchor": "x10",
         "domain": [
          0.43199999999999994,
          0.568
         ],
         "showgrid": true
        },
        "yaxis11": {
         "anchor": "x11",
         "domain": [
          0.43199999999999994,
          0.568
         ],
         "showgrid": true
        },
        "yaxis12": {
         "anchor": "x12",
         "domain": [
          0.43199999999999994,
          0.568
         ],
         "showgrid": true
        },
        "yaxis13": {
         "anchor": "x13",
         "domain": [
          0.21599999999999997,
          0.352
         ],
         "showgrid": true
        },
        "yaxis14": {
         "anchor": "x14",
         "domain": [
          0.21599999999999997,
          0.352
         ],
         "showgrid": true
        },
        "yaxis15": {
         "anchor": "x15",
         "domain": [
          0.21599999999999997,
          0.352
         ],
         "showgrid": true
        },
        "yaxis16": {
         "anchor": "x16",
         "domain": [
          0.21599999999999997,
          0.352
         ],
         "showgrid": true
        },
        "yaxis17": {
         "anchor": "x17",
         "domain": [
          0,
          0.13599999999999998
         ],
         "showgrid": true
        },
        "yaxis18": {
         "anchor": "x18",
         "domain": [
          0,
          0.13599999999999998
         ],
         "showgrid": true
        },
        "yaxis19": {
         "anchor": "x19",
         "domain": [
          0,
          0.13599999999999998
         ],
         "showgrid": true
        },
        "yaxis2": {
         "anchor": "x2",
         "domain": [
          0.8639999999999999,
          0.9999999999999999
         ],
         "showgrid": true
        },
        "yaxis20": {
         "anchor": "x20",
         "domain": [
          0,
          0.13599999999999998
         ],
         "showgrid": true
        },
        "yaxis3": {
         "anchor": "x3",
         "domain": [
          0.8639999999999999,
          0.9999999999999999
         ],
         "showgrid": true
        },
        "yaxis4": {
         "anchor": "x4",
         "domain": [
          0.8639999999999999,
          0.9999999999999999
         ],
         "showgrid": true
        },
        "yaxis5": {
         "anchor": "x5",
         "domain": [
          0.6479999999999999,
          0.7839999999999999
         ],
         "showgrid": true
        },
        "yaxis6": {
         "anchor": "x6",
         "domain": [
          0.6479999999999999,
          0.7839999999999999
         ],
         "showgrid": true
        },
        "yaxis7": {
         "anchor": "x7",
         "domain": [
          0.6479999999999999,
          0.7839999999999999
         ],
         "showgrid": true
        },
        "yaxis8": {
         "anchor": "x8",
         "domain": [
          0.6479999999999999,
          0.7839999999999999
         ],
         "showgrid": true
        },
        "yaxis9": {
         "anchor": "x9",
         "domain": [
          0.43199999999999994,
          0.568
         ],
         "showgrid": true
        }
       }
      }
     },
     "metadata": {},
     "output_type": "display_data"
    }
   ],
   "source": [
    "top_n_topics = 20\n",
    "fig = topic_model.visualize_barchart(top_n_topics=top_n_topics, title=\"Top 20 topics\")\n",
    "\n",
    "# Suppose 'labels' is the number of bars or subplots\n",
    "# Use the new API to get the colormap\n",
    "cmap = plt.get_cmap(\"tab20\", top_n_topics)  # or: cmap = plt.colormaps[\"tab20\"]\n",
    "\n",
    "# Convert RGBA to hex for Plotly\n",
    "colors = ['#%02x%02x%02x' % (int(r*255), int(g*255), int(b*255)) \n",
    "          for r, g, b, a in cmap(range(top_n_topics))]\n",
    "\n",
    "# Assign colors to traces\n",
    "for i, trace in enumerate(fig.data):\n",
    "    trace.marker.color = colors[i % len(colors)]  # cycles if more traces than labels\n",
    "fig.show()\n"
   ]
  },
  {
   "cell_type": "markdown",
   "id": "d1d5da57",
   "metadata": {},
   "source": [
    "### Topic distribution"
   ]
  },
  {
   "cell_type": "code",
   "execution_count": 7,
   "id": "83c70897",
   "metadata": {},
   "outputs": [
    {
     "data": {
      "image/png": "[encoded data removed]",
      "text/plain": [
       "<Figure size 1600x800 with 2 Axes>"
      ]
     },
     "metadata": {},
     "output_type": "display_data"
    }
   ],
   "source": [
    "import pandas as pd\n",
    "import matplotlib.pyplot as plt\n",
    "\n",
    "# Copy and sanitize\n",
    "df = merged_topic_info.copy()\n",
    "df['Topic'] = pd.to_numeric(df['Topic'], errors='coerce')  # ensure numeric\n",
    "\n",
    "# ---------- Prepare first chart (with noise) ----------\n",
    "df_with_noise = df.copy()\n",
    "df_with_noise['Topic_Grouped'] = df_with_noise['Topic'].apply(\n",
    "    lambda x: 'Other' if pd.notna(x) and x >= top_n_topics else str(int(x)) if pd.notna(x) else 'Unknown'\n",
    ")\n",
    "\n",
    "grouped_noise = df_with_noise.groupby('Topic_Grouped', as_index=False)['Count'].sum()\n",
    "grouped_noise = grouped_noise.sort_values('Count', ascending=False).reset_index(drop=True)\n",
    "if 'Other' in grouped_noise['Topic_Grouped'].values:\n",
    "    other_row = grouped_noise[grouped_noise['Topic_Grouped'] == 'Other']\n",
    "    grouped_noise = grouped_noise[grouped_noise['Topic_Grouped'] != 'Other']\n",
    "    grouped_noise = pd.concat([grouped_noise, other_row], ignore_index=True)\n",
    "\n",
    "labels = grouped_noise['Topic_Grouped'].tolist()\n",
    "sizes_noise = grouped_noise['Count'].tolist()\n",
    "\n",
    "# Explode noise slice so it stands out\n",
    "explode = [0.12 if lbl == '-1' else 0.0 for lbl in labels]\n",
    "\n",
    "cmap = plt.get_cmap(\"tab20\", len(labels))\n",
    "colors_noise = []\n",
    "for i, lbl in enumerate(labels):\n",
    "    if lbl == \"Other\":\n",
    "        colors_noise.append(\"gray\")\n",
    "    elif lbl == \"-1\":\n",
    "        colors_noise.append(\"white\")\n",
    "    else:\n",
    "        colors_noise.append(cmap(i))\n",
    "\n",
    "# ---------- Prepare second chart (without noise) ----------\n",
    "df_no_noise = df[df['Topic'] != -1].copy()\n",
    "df_no_noise['Topic_Grouped'] = df_no_noise['Topic'].apply(\n",
    "    lambda x: 'Other' if pd.notna(x) and x >= top_n_topics else str(int(x)) if pd.notna(x) else 'Unknown'\n",
    ")\n",
    "\n",
    "grouped_no_noise = df_no_noise.groupby('Topic_Grouped', as_index=False)['Count'].sum()\n",
    "grouped_no_noise = grouped_no_noise.sort_values('Count', ascending=False).reset_index(drop=True)\n",
    "if 'Other' in grouped_no_noise['Topic_Grouped'].values:\n",
    "    other_row = grouped_no_noise[grouped_no_noise['Topic_Grouped'] == 'Other']\n",
    "    grouped_no_noise = grouped_no_noise[grouped_no_noise['Topic_Grouped'] != 'Other']\n",
    "    grouped_no_noise = pd.concat([grouped_no_noise, other_row], ignore_index=True)\n",
    "\n",
    "sizes_no_noise = []\n",
    "for lbl in labels:  # use the same label order as the first chart\n",
    "    if lbl in grouped_no_noise['Topic_Grouped'].values:\n",
    "        sizes_no_noise.append(int(grouped_no_noise.loc[grouped_no_noise['Topic_Grouped'] == lbl, 'Count']))\n",
    "    else:\n",
    "        sizes_no_noise.append(0)  # keep alignment\n",
    "\n",
    "colors_no_noise = []\n",
    "for i, lbl in enumerate(labels):\n",
    "    if lbl == \"Other\":\n",
    "        colors_no_noise.append(\"gray\")\n",
    "    else:\n",
    "        colors_no_noise.append(cmap(i))\n",
    "\n",
    "# ---------- Plot side-by-side donut charts ----------\n",
    "fig, axes = plt.subplots(1, 2, figsize=(16, 8))\n",
    "\n",
    "# First chart: with noise\n",
    "wedges1, texts1, autotexts1 = axes[0].pie(\n",
    "    sizes_noise,\n",
    "    labels=None,\n",
    "    autopct='%1.1f%%',\n",
    "    colors=colors_noise,\n",
    "    startangle=90,\n",
    "    explode=explode,\n",
    "    pctdistance=1.075,\n",
    "    wedgeprops=dict(width=0.35, edgecolor='w', linewidth=1.5)\n",
    ")\n",
    "for i, lbl in enumerate(labels):\n",
    "    if lbl == \"-1\":\n",
    "        wedges1[i].set_edgecolor(\"black\")\n",
    "        wedges1[i].set_linewidth(2.5)\n",
    "for autotext in autotexts1:\n",
    "    autotext.set_color('black')\n",
    "    autotext.set_fontsize(10)\n",
    "axes[0].axis('equal')\n",
    "axes[0].set_title(\"With Noise\")\n",
    "\n",
    "# Second chart: without noise\n",
    "wedges2, texts2, autotexts2 = axes[1].pie(\n",
    "    sizes_no_noise,\n",
    "    labels=None,\n",
    "    autopct='%1.1f%%',\n",
    "    colors=colors_no_noise,\n",
    "    startangle=90,\n",
    "    pctdistance=1.075,\n",
    "    wedgeprops=dict(width=0.35, edgecolor='w', linewidth=1.5)\n",
    ")\n",
    "for autotext in autotexts2:\n",
    "    autotext.set_color('black')\n",
    "    autotext.set_fontsize(10)\n",
    "axes[1].axis('equal')\n",
    "axes[1].set_title(f\"Without Noise\")\n",
    "\n",
    "# ---------- Shared legend based on first chart ----------\n",
    "percentages = [f\"{p:.1f}%\" for p in (grouped_noise['Count'] / grouped_noise['Count'].sum() * 100)]\n",
    "legend_labels = [f\"{lab}: {pct}\" if lab not in [\"Other\", \"-1\"]\n",
    "                 else (f\"Other: {pct}\" if lab == \"Other\" else f\"Noise: {pct}\")\n",
    "                 for lab, pct in zip(labels, percentages)]\n",
    "fig.legend(wedges1, legend_labels, title=\"Topics\", loc='upper center', bbox_to_anchor=(0.5, -0.05), ncol=10)\n",
    "\n",
    "plt.tight_layout()\n",
    "plt.show()\n"
   ]
  },
  {
   "cell_type": "markdown",
   "id": "91188b26",
   "metadata": {},
   "source": [
    "### Top 20 Frequent & MMR Words\n",
    "MMR = Maximum Marginal Relevance.\n",
    "Increases the likelihood that the words chosen to represent a topic are different (e.g. only one between *thank* and *thanks* is chosen) without lemmatizing the whole corpus."
   ]
  },
  {
   "cell_type": "code",
   "execution_count": 8,
   "id": "f5bf3b70",
   "metadata": {},
   "outputs": [
    {
     "name": "stdout",
     "output_type": "stream",
     "text": [
      "Topic -1:\n",
      "  Base: ['vaccine', 'dose', 'vaccines', '19', 'pfizer', 'people', 'get', 'moderna', 'new', 'one']\n",
      "  MMR: ['vaccine', 'moderna', 'one', 'astrazeneca', 'us', 'today', 'data', 'said', 'johnson', 'could']\n",
      "    - RT user: user I received the first dose of the Pfizer vaccine 2 1/2 weeks ago and am scheduled to have the second dose th…\n",
      "    - RT user: AstraZeneca vaccine: EU agency says AstraZeneca is 'safe and effective'\n",
      "    - user user user user user user user user user user user user user user user user user user user user user user Great work, I can find all the RCTs for potential therapeutic agents in COVID19 here COVID19 COVID19RX Check here a study of high dose vit C in COVID19\n",
      "\n",
      "Topic 0:\n",
      "  Base: ['cases', 'lockdown', 'deaths', 'virus', 'boris', 'pandemic', 'new', 'uk', 'variant', 'brexit']\n",
      "  MMR: ['boris', 'pandemic', 'new', 'uk', 'restrictions', 'people', 'stay', '000', 'wave', 'test']\n",
      "    - Myth: Virus is weak. COVID’s gone Speed: First 500,000 cases =140 days Last 500k cases = 1-2 days First 100,000 deaths = 100 days Last 100k deaths = 20 days The virus hasn’t weakened; we’ve become numb to it Stay cautious: wash hands, wear masks, avoid crowds\n",
      "    - Los Angeles issues new stay at home order as coronavirus cases surge\n",
      "    - U.S. COVID19 cases are rising with an average 66 cases per 100,000 people over the last 7 days. This holiday season, help slow the spread: 🚫 Avoid travel and gatherings. 😷 Wear a mask. ↔️ Stay 6 feet away from others. 🖐️ Wash your hands. See more:\n",
      "\n",
      "Topic 1:\n",
      "  Base: ['dose', 'doses', 'pfizer', 'second', '2nd', 'data', 'az', 'eu', 'astrazeneca', 'week']\n",
      "  MMR: ['data', 'astrazeneca', 'weeks', 'moderna', 'million', 'would', 'efficacy', 'uk', '1st', 'also']\n",
      "    - user But very few are getting a second dose...\n",
      "    - user user Yes you will.\n",
      "    - user user user user There's enough Pfizer coming to do them too.\n",
      "\n",
      "Topic 2:\n",
      "  Base: ['canada', 'ontario', 'trudeau', 'cdnpoli', 'canadians', 'doses', 'province', 'vaccines', 'health', 'ford']\n",
      "  MMR: ['cdnpoli', 'vaccines', 'ford', 'receive', '19', 'week', 'alberta', 'says', 'million', 'minister']\n",
      "    - “Health Canada has approved the use of Johnson Johnson's COVID-19 vaccine in Canada, CBC News has learned.” 👏👏\n",
      "    - BREAKING: Health Canada approves AstraZeneca's COVID-19 vaccine\n",
      "    - Health Canada has approved the Pfizer-BioNTech COVID-19 vaccine!\n",
      "\n",
      "Topic 3:\n",
      "  Base: ['uk', 'britain', 'nhs', 'first', 'boris', 'received', 'oxford', 'england', 'wales', 'jab']\n",
      "  MMR: ['uk', 'first', 'boris', 'million', 'hancock', 'vaccine', 'approved', 'week', 'adults', 'roll']\n",
      "    - RT user: 👇👇👇👇👇👇👇👇👇 Over 4 million people have now received the 1st dose of a COVID-19 vaccine across the U.K.\n",
      "    - More than 21 million people in UK have had one dose of COVID-19 vaccine\n",
      "    - NOW: Over 20 million people in the UK have now received at least one dose of the COVID19Vaccine\n",
      "\n",
      "Topic 4:\n",
      "  Base: ['sputnik', 'russia', 'russian', 'sputnikv', 'putin', 'moscow', 'rdif', 'india', 'hungary', 'vaccine']\n",
      "  MMR: ['russia', 'rdif', 'vaccine', 'reddy', '91', 'produce', 'approval', 'said', 'emergency', 'direct']\n",
      "    - RT user: India will receive a first batch of Russia’s Sputnik V vaccine against COVID-19 on May 1.\n",
      "    - Russia’s Sputnik V vaccine could be made in Europe for first time\n",
      "    - Russia’s Sputnik V vaccine to be shipped out\n",
      "\n",
      "Topic 5:\n",
      "  Base: ['trump', 'biden', 'election', 'president', 'joe', 'georgia', 'senate', 'impeachment', 'vote', 'donald']\n",
      "  MMR: ['election', 'georgia', 'impeachment', 'donald', 'fraud', 'house', 'supreme', 'sen', 'barr', 'cnn']\n",
      "    - US President Donald Trump is providing his first public comments since the election was called for Joe Biden.\n",
      "    - Joe Biden has a plan. Trump has none.\n",
      "    - Joe Biden: ‘I’m Going to Beat Joe Biden’\n",
      "\n",
      "Topic 6:\n",
      "  Base: ['india', 'covaxin', 'serum', 'rs', 'bharat', 'covishield', 'institute', 'largestvaccinedrive', 'modi', 'indian']\n",
      "  MMR: ['india', 'institute', 'unite2fightcorona', 'dose', 'sii', 'first', 'price', 'covidvaccine', 'till', 'cr']\n",
      "    - Bharat Biotech inks purchase agreement with the Govt of India to provide 55 lakh doses of Covaxin at Rs 295 per dose. COVID19 Vaccine Covaxin user\n",
      "    - user user user user user user user user user user user user user user user user user user user user user user user user user user user user user user user Central Govt has placed a new purchase order with Serum Institute of India (S-II), Pune for 10 crore doses of Oxford AstraZeneca (Covishield) Covid-19 vaccine.. 🌟💥\n",
      "    - VaccineTracker | Bharat Biotech's COVAXIN to cost Rs 600/dose for state governments; Rs 1200/dose for private hospitals and 15-20$ for exports. Check out the details. user user user Vaccine India COVIDSecondWave Covishield\n",
      "\n",
      "Topic 7:\n",
      "  Base: ['blood', 'clots', 'clot', 'rare', 'clotting', 'astrazeneca', 'link', 'reports', 'johnson', 'linked']\n",
      "  MMR: ['astrazeneca', 'linked', 'thrombosis', 'regulator', 'cases', 'pause', 'jab', 'denmark', 'benefits', 'vaccine']\n",
      "    - No evidence of an increased risk of blood clots — AstraZeneca\n",
      "    - COVID-19 Vaccine AstraZeneca: benefits still outweigh the risks despite possible link to rare blood clots with low blood platelets | European Medicines Agency via user\n",
      "    - Clear link between AstraZeneca vaccine and rare blood clots in brain: Top EMA official\n",
      "\n",
      "Topic 8:\n",
      "  Base: ['vax', 'c19', 'anti', 'kids', 'need', 'want', 'get', 'take', 'think', 'pro']\n",
      "  MMR: ['vax', 'c19', 'pro', 'would', 'know', 'folks', 'risk', 'even', 'recovered', 'govt']\n",
      "    - user user C19 recovered do NOT need vax. No benefit and only potential harm! They were excluded from FDA vax trials and user wrong in ignoring regulatory science from vax trials\n",
      "    - user user user C19 recovered do NOT need vax. No benefit and only potential harm! They were excluded from FDA vax trials and user wrong in ignoring regulatory science from vax trials\n",
      "    - user Now, you see, that vax was a good one!\n",
      "\n",
      "Topic 9:\n",
      "  Base: ['emergency', 'fda', 'authorization', 'use', 'panel', 'johnson', 'advisory', 'approval', 'eua', 'moderna']\n",
      "  MMR: ['emergency', 'fda', 'panel', 'johnson', 'moderna', '19', 'us', 'voted', 'seek', 'authorizes']\n",
      "    - FDA grants emergency use authorization for Pfizer COVID-19 vaccine\n",
      "    - FDA approves Pfizer Covid-19 vaccine for emergency use in U.S.\n",
      "    - FDA issues emergency use authorization for Pfizer/BioNTech Covid-19 vaccine: The US Food and Drug Administration has authorized Pfizer and BioNTech's coronavirus vaccine for emergency use in the United States.\n",
      "\n",
      "Topic 10:\n",
      "  Base: ['ontario', 'trudeau', 'canada', 'cases', 'ford', 'province', 'premier', 'onpoli', 'canadians', 'new']\n",
      "  MMR: ['ontario', 'trudeau', 'cases', 'ford', 'justin', 'bcpoli', 'measures', 'government', 'pandemic', 'active']\n",
      "    - Ontario Premier Doug Ford will make an announcement in York Region on Monday amid a rising number of COVID-19 cases in the province.\n",
      "    - BREAKING: Ontario reports highest number of new COVID-19 cases in three months\n",
      "    - Watch live user: Ontario Premier Doug Ford to provide COVID-19 update at 1 pm ET as province reports 583 new cases.\n",
      "\n",
      "Topic 11:\n",
      "  Base: ['stocks', 'stock', 'shares', 'dow', 'market', 'moderna', 'markets', 'futures', 'earnings', 'investors']\n",
      "  MMR: ['stocks', 'dow', 'moderna', 'sp', 'news', 'biggest', 'pfizer', '500', 'rally', 'nifty']\n",
      "    - Stock market live updates: Futures jump, another effective vaccine, Dow set for record close\n",
      "    - RT user: Why Moderna Stock Dropped Today user stocks $MRNA\n",
      "    - RT user: user Pfizer's CEO sold $5.6 million in stock on same day of coronavirus vaccine news\n",
      "\n",
      "Topic 12:\n",
      "  Base: ['mask', 'masks', 'wear', 'wearing', 'face', 'mandate', 'distancing', 'vaccinated', 'masking', 'mandates']\n",
      "  MMR: ['distancing', 'vaccinated', 'mandates', 'public', 'fully', 'cloth', 'fauci', 'still', 'spread', 'surgical']\n",
      "    - This is a new way to wear your mask!\n",
      "    - Why not wear 7 masks?\n",
      "    - No masks.\n",
      "\n",
      "Topic 13:\n",
      "  Base: ['hindu', 'india', 'bjp', 'modi', 'gandhi', 'indian', 'farmers', 'rahul', 'hinduism', 'pm']\n",
      "  MMR: ['modi', 'pm', 'hindus', 'arnab', 'govt', 'sushant', 'cm', 'ji', 'never', 'party']\n",
      "    - user user user user user user user user user user user user user user user user user user user user user user user user user user user user user user user Cabinet paves way for raising FDI limit in insurance sector to 74% 🌟💥\n",
      "    - user user user user user user user user user user user user user user user user What a beautiful tribute to India and Indian culture ❤️❤️❤️\n",
      "    - user user user user user user user user user user user user user user user user user user user user user user user user user user user user user user user user user user user user user user user user user user user user user user user user user Sushant Singh Rajput Death Case: Supreme Court is Likely to Pronounce Verdict on Rhea Chakraborty’s Plea on Wednesday !! 🌟💥\n",
      "\n",
      "Topic 14:\n",
      "  Base: ['thank', 'thanks', 'yes', 'dey', 'know', 'sure', 'like', 'think', 'please', 'oh']\n",
      "  MMR: ['dey', 'think', 'lol', 'tweet', 'sorry', 'love', 'congrats', 'much', 'yeah', 'go']\n",
      "    - user user Yours\n",
      "    - user user this\n",
      "    - user user You can\n",
      "\n",
      "Topic 15:\n",
      "  Base: ['eu', 'exports', 'export', 'uk', 'european', 'bloc', 'astrazeneca', 'brexit', 'commission', 'brussels']\n",
      "  MMR: ['eu', 'exports', 'bloc', 'astrazeneca', 'brexit', 'contract', 'ban', 'vaccine', 'leyen', 'deliver']\n",
      "    - RT user: 'People are dying' because of EU's vaccine ban, expert warns as Ursula von der Leyen threatens to block MORE exports\n",
      "    - RT user: EU's vaccine war on Britain: UK condemns Brussels 'brinkmanship' after Ursula Von der Leyen threatens to block exports htt…\n",
      "    - EU vaccine failure\n",
      "\n",
      "Topic 16:\n",
      "  Base: ['floyd', 'police', 'george', 'black', 'chauvin', 'derek', 'capitol', 'minneapolis', 'white', 'officers']\n",
      "  MMR: ['floyd', 'black', 'capitol', 'officer', 'protesters', 'murder', 'charged', 'matter', 'video', 'trump']\n",
      "    - “Today, the tears are pure joy,” a lawyer for George Floyd’s family said. Relatives of Mr. Floyd, the Black man killed by the former police officer Derek Chauvin, spoke after Mr. Chauvin was found guilty of murder and manslaughter.\n",
      "    - BREAKING: Derek Chauvin found guilty on all three counts in the death of George Floyd.\n",
      "    - Minneapolis prepares for potential unrest ahead of trial of former Minneapolis police officer, Derek Chauvin, who is charged with murder in George Floyd's death last May.\n",
      "\n",
      "Topic 17:\n",
      "  Base: ['israel', 'israeli', 'israelis', 'netanyahu', 'population', 'pfizer', 'palestinians', 'vaccinated', 'palestinian', 'data']\n",
      "  MMR: ['population', 'pfizer', 'palestinians', 'vaccinated', 'data', 'world', 'cases', 'dose', 'received', '000']\n",
      "    - Israel - Pfizer Vaccine Efficacy Report\n",
      "    - user Israel is using the Pfizer/BioNtech vaccine.\n",
      "    - Meanwhile in Israel 😱\n",
      "\n",
      "Topic 18:\n",
      "  Base: ['oh', 'good', 'news', 'well', 'wow', 'really', 'true', 'fuck', 'watch', 'please']\n",
      "  MMR: ['oh', 'news', 'true', 'watch', 'evil', 'think', 'great', 'fucking', 'man', 'story']\n",
      "    - Here’s some good news.\n",
      "    - Good news.\n",
      "    - More good news\n",
      "\n",
      "Topic 19:\n",
      "  Base: ['trump', 'president', 'positive', 'biden', 'white', 'house', 'tested', 'donald', 'regeneron', 'conley']\n",
      "  MMR: ['house', 'pandemic', 'cocktail', 'pres', 'antibody', 'americans', 'negative', 'oxygen', 'testing', 'symptoms']\n",
      "    - BREAKING: President Trump and First Lady Melania Trump Test Positive for CoVID-19\n",
      "    - BREAKING: Donald Trump Jr. has tested positive for coronavirus.\n",
      "    - President Trump tweets that he and first lady Melania Trump have tested positive for Covid-19\n",
      "\n"
     ]
    }
   ],
   "source": [
    "import ast\n",
    "# print top 20 topics\n",
    "for topic_num in range(-1,20):\n",
    "    print(f\"Topic {topic_num}:\")\n",
    "    print(\"  Base:\", merged_topic_info.loc[merged_topic_info.Topic == topic_num][\"Representation\"].values[0])\n",
    "    print(\"  MMR:\", merged_topic_info.loc[merged_topic_info.Topic == topic_num][\"MMR\"].values[0])\n",
    "    representative_docs = ast.literal_eval(merged_topic_info[merged_topic_info.Topic == topic_num][\"Representative_Docs\"].values[0])\n",
    "    for d in representative_docs:\n",
    "        print(\"    -\", d)\n",
    "    print()"
   ]
  }
 ],
 "metadata": {
  "kernelspec": {
   "display_name": ".venv",
   "language": "python",
   "name": "python3"
  },
  "language_info": {
   "codemirror_mode": {
    "name": "ipython",
    "version": 3
   },
   "file_extension": ".py",
   "mimetype": "text/x-python",
   "name": "python",
   "nbconvert_exporter": "python",
   "pygments_lexer": "ipython3",
   "version": "3.12.3"
  }
 },
 "nbformat": 4,
 "nbformat_minor": 5
}
